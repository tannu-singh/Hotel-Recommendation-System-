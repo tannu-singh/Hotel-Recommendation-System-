{
 "cells": [
  {
   "cell_type": "code",
   "execution_count": 1,
   "metadata": {},
   "outputs": [
    {
     "data": {
      "application/vnd.jupyter.widget-view+json": {
       "model_id": "19a93c366099425781eb0200641d4014",
       "version_major": 2,
       "version_minor": 0
      },
      "text/plain": [
       "VBox()"
      ]
     },
     "metadata": {},
     "output_type": "display_data"
    },
    {
     "name": "stdout",
     "output_type": "stream",
     "text": [
      "Starting Spark application\n"
     ]
    },
    {
     "data": {
      "text/html": [
       "<table>\n",
       "<tr><th>ID</th><th>YARN Application ID</th><th>Kind</th><th>State</th><th>Spark UI</th><th>Driver log</th><th>Current session?</th></tr><tr><td>8</td><td>application_1575409539261_0009</td><td>pyspark</td><td>idle</td><td><a target=\"_blank\" href=\"http://ip-172-31-45-147.ec2.internal:20888/proxy/application_1575409539261_0009/\">Link</a></td><td><a target=\"_blank\" href=\"http://ip-172-31-38-151.ec2.internal:8042/node/containerlogs/container_1575409539261_0009_01_000001/livy\">Link</a></td><td>✔</td></tr></table>"
      ],
      "text/plain": [
       "<IPython.core.display.HTML object>"
      ]
     },
     "metadata": {},
     "output_type": "display_data"
    },
    {
     "data": {
      "application/vnd.jupyter.widget-view+json": {
       "model_id": "",
       "version_major": 2,
       "version_minor": 0
      },
      "text/plain": [
       "FloatProgress(value=0.0, bar_style='info', description='Progress:', layout=Layout(height='25px', width='50%'),…"
      ]
     },
     "metadata": {},
     "output_type": "display_data"
    },
    {
     "name": "stdout",
     "output_type": "stream",
     "text": [
      "SparkSession available as 'spark'.\n"
     ]
    },
    {
     "data": {
      "application/vnd.jupyter.widget-view+json": {
       "model_id": "",
       "version_major": 2,
       "version_minor": 0
      },
      "text/plain": [
       "FloatProgress(value=0.0, bar_style='info', description='Progress:', layout=Layout(height='25px', width='50%'),…"
      ]
     },
     "metadata": {},
     "output_type": "display_data"
    }
   ],
   "source": [
    "#import findspark\n",
    "#findspark.init()\n",
    "import pyspark # only run after findspark.init()\n",
    "from pyspark.sql import SparkSession\n",
    "spark = SparkSession.builder.getOrCreate()\n",
    "import os"
   ]
  },
  {
   "cell_type": "code",
   "execution_count": 4,
   "metadata": {},
   "outputs": [
    {
     "data": {
      "application/vnd.jupyter.widget-view+json": {
       "model_id": "5abe4c431288478db3f1a8cf103bc391",
       "version_major": 2,
       "version_minor": 0
      },
      "text/plain": [
       "VBox()"
      ]
     },
     "metadata": {},
     "output_type": "display_data"
    },
    {
     "data": {
      "application/vnd.jupyter.widget-view+json": {
       "model_id": "",
       "version_major": 2,
       "version_minor": 0
      },
      "text/plain": [
       "FloatProgress(value=0.0, bar_style='info', description='Progress:', layout=Layout(height='25px', width='50%'),…"
      ]
     },
     "metadata": {},
     "output_type": "display_data"
    },
    {
     "name": "stdout",
     "output_type": "stream",
     "text": [
      "Collecting pandas==0.25.1\n",
      "  Using cached https://files.pythonhosted.org/packages/73/9b/52e228545d14f14bb2a1622e225f38463c8726645165e1cb7dde95bfe6d4/pandas-0.25.1-cp36-cp36m-manylinux1_x86_64.whl\n",
      "Requirement already satisfied: numpy>=1.13.3 in /usr/local/lib64/python3.6/site-packages (from pandas==0.25.1) (1.14.5)\n",
      "Collecting python-dateutil>=2.6.1\n",
      "  Using cached https://files.pythonhosted.org/packages/d4/70/d60450c3dd48ef87586924207ae8907090de0b306af2bce5d134d78615cb/python_dateutil-2.8.1-py2.py3-none-any.whl\n",
      "Requirement already satisfied: pytz>=2017.2 in /usr/local/lib/python3.6/site-packages (from pandas==0.25.1) (2019.3)\n",
      "Requirement already satisfied: six>=1.5 in /usr/local/lib/python3.6/site-packages (from python-dateutil>=2.6.1->pandas==0.25.1) (1.12.0)\n",
      "Installing collected packages: python-dateutil, pandas\n",
      "Successfully installed pandas-0.25.1 python-dateutil-2.8.1"
     ]
    }
   ],
   "source": [
    "sc.install_pypi_package(\"pandas==0.25.1\")"
   ]
  },
  {
   "cell_type": "code",
   "execution_count": 5,
   "metadata": {},
   "outputs": [
    {
     "data": {
      "application/vnd.jupyter.widget-view+json": {
       "model_id": "9b73e02f4e624c85871d30c3a2880a26",
       "version_major": 2,
       "version_minor": 0
      },
      "text/plain": [
       "VBox()"
      ]
     },
     "metadata": {},
     "output_type": "display_data"
    },
    {
     "data": {
      "application/vnd.jupyter.widget-view+json": {
       "model_id": "",
       "version_major": 2,
       "version_minor": 0
      },
      "text/plain": [
       "FloatProgress(value=0.0, bar_style='info', description='Progress:', layout=Layout(height='25px', width='50%'),…"
      ]
     },
     "metadata": {},
     "output_type": "display_data"
    }
   ],
   "source": [
    "from pyspark.sql.functions import monotonically_increasing_id "
   ]
  },
  {
   "cell_type": "markdown",
   "metadata": {},
   "source": [
    "## Import "
   ]
  },
  {
   "cell_type": "code",
   "execution_count": 6,
   "metadata": {},
   "outputs": [
    {
     "data": {
      "application/vnd.jupyter.widget-view+json": {
       "model_id": "a8ee84b887b74e51815d33fa1b318701",
       "version_major": 2,
       "version_minor": 0
      },
      "text/plain": [
       "VBox()"
      ]
     },
     "metadata": {},
     "output_type": "display_data"
    },
    {
     "data": {
      "application/vnd.jupyter.widget-view+json": {
       "model_id": "",
       "version_major": 2,
       "version_minor": 0
      },
      "text/plain": [
       "FloatProgress(value=0.0, bar_style='info', description='Progress:', layout=Layout(height='25px', width='50%'),…"
      ]
     },
     "metadata": {},
     "output_type": "display_data"
    }
   ],
   "source": [
    "import numpy as np\n",
    "import pandas as pd\n",
    "\n",
    "from operator import add\n",
    "from pyspark.ml.feature import RegexTokenizer, CountVectorizer\n",
    "from pyspark.ml.feature import StopWordsRemover, VectorAssembler\n",
    "from pyspark.ml.feature import Word2Vec, Word2VecModel\n",
    "from pyspark.ml.feature import IDF\n",
    "\n",
    "from pyspark.ml import Pipeline, PipelineModel\n",
    "\n",
    "\n",
    "from pyspark.sql.functions import *\n",
    "\n",
    "from pyspark.sql.types import *\n",
    "from pyspark import SparkContext"
   ]
  },
  {
   "cell_type": "code",
   "execution_count": 7,
   "metadata": {},
   "outputs": [
    {
     "data": {
      "application/vnd.jupyter.widget-view+json": {
       "model_id": "06da3925b9f947f29cae2f9607dc80c7",
       "version_major": 2,
       "version_minor": 0
      },
      "text/plain": [
       "VBox()"
      ]
     },
     "metadata": {},
     "output_type": "display_data"
    },
    {
     "data": {
      "application/vnd.jupyter.widget-view+json": {
       "model_id": "",
       "version_major": 2,
       "version_minor": 0
      },
      "text/plain": [
       "FloatProgress(value=0.0, bar_style='info', description='Progress:', layout=Layout(height='25px', width='50%'),…"
      ]
     },
     "metadata": {},
     "output_type": "display_data"
    }
   ],
   "source": [
    "from pyspark.ml.linalg import DenseVector\n",
    "from pyspark.sql.functions import *\n",
    "from pyspark.ml import Pipeline\n",
    "from pyspark.sql.functions import *\n",
    "from pyspark.sql.types import *\n",
    "\n",
    "from operator import add\n",
    "from pyspark.ml.feature import RegexTokenizer, CountVectorizer\n",
    "from pyspark.ml.feature import StopWordsRemover\n",
    "from pyspark.ml.feature import HashingTF, IDF\n",
    "from pyspark.ml.feature import Word2Vec, Word2VecModel\n",
    "\n",
    "from pyspark.ml.clustering import LDA, LDAModel, LocalLDAModel\n",
    "from pyspark.sql import SQLContext\n",
    "sqlContext = SQLContext(spark)\n",
    "#from wordcloud import WordCloud\n",
    "\n",
    "from pyspark.ml.recommendation import ALS, ALSModel\n",
    "from pyspark.ml.tuning import TrainValidationSplit, ParamGridBuilder, CrossValidator\n",
    "from pyspark.ml.evaluation import RegressionEvaluator\n",
    "sc = spark.sparkContext"
   ]
  },
  {
   "cell_type": "code",
   "execution_count": 9,
   "metadata": {},
   "outputs": [
    {
     "data": {
      "application/vnd.jupyter.widget-view+json": {
       "model_id": "37b75c158c2f4a5393db62cf7933b0c9",
       "version_major": 2,
       "version_minor": 0
      },
      "text/plain": [
       "VBox()"
      ]
     },
     "metadata": {},
     "output_type": "display_data"
    },
    {
     "data": {
      "application/vnd.jupyter.widget-view+json": {
       "model_id": "",
       "version_major": 2,
       "version_minor": 0
      },
      "text/plain": [
       "FloatProgress(value=0.0, bar_style='info', description='Progress:', layout=Layout(height='25px', width='50%'),…"
      ]
     },
     "metadata": {},
     "output_type": "display_data"
    },
    {
     "name": "stdout",
     "output_type": "stream",
     "text": [
      "root\n",
      " |-- id: string (nullable = true)\n",
      " |-- dateAdded: string (nullable = true)\n",
      " |-- dateUpdated: string (nullable = true)\n",
      " |-- address: string (nullable = true)\n",
      " |-- categories: string (nullable = true)\n",
      " |-- primaryCategories: string (nullable = true)\n",
      " |-- city: string (nullable = true)\n",
      " |-- country: string (nullable = true)\n",
      " |-- keys: string (nullable = true)\n",
      " |-- latitude: string (nullable = true)\n",
      " |-- longitude: string (nullable = true)\n",
      " |-- name: string (nullable = true)\n",
      " |-- postalCode: string (nullable = true)\n",
      " |-- province: string (nullable = true)\n",
      " |-- reviews.date: string (nullable = true)\n",
      " |-- reviews.dateSeen: string (nullable = true)\n",
      " |-- reviews.rating: string (nullable = true)\n",
      " |-- reviews.sourceURLs: string (nullable = true)\n",
      " |-- reviews.text: string (nullable = true)\n",
      " |-- reviews.title: string (nullable = true)\n",
      " |-- reviews.userCity: string (nullable = true)\n",
      " |-- reviews.userProvince: string (nullable = true)\n",
      " |-- reviews.username: string (nullable = true)\n",
      " |-- sourceURLs: string (nullable = true)\n",
      " |-- websites: string (nullable = true)"
     ]
    }
   ],
   "source": [
    "hotel_df_temp = spark.read.csv( 's3://aws-emr-resources-140484683578-us-east-1/notebooks/e-2AFROLBBL6SA34XDT9KVU1RAE/Datafiniti_Hotel_Reviews.csv', header=True)\n",
    "# print the schema of the review dataframe\n",
    "hotel_df_temp.printSchema()"
   ]
  },
  {
   "cell_type": "markdown",
   "metadata": {},
   "source": [
    "## Rename Columns"
   ]
  },
  {
   "cell_type": "code",
   "execution_count": 11,
   "metadata": {},
   "outputs": [
    {
     "data": {
      "application/vnd.jupyter.widget-view+json": {
       "model_id": "ba34206fcd67439d8990145aba093569",
       "version_major": 2,
       "version_minor": 0
      },
      "text/plain": [
       "VBox()"
      ]
     },
     "metadata": {},
     "output_type": "display_data"
    },
    {
     "data": {
      "application/vnd.jupyter.widget-view+json": {
       "model_id": "",
       "version_major": 2,
       "version_minor": 0
      },
      "text/plain": [
       "FloatProgress(value=0.0, bar_style='info', description='Progress:', layout=Layout(height='25px', width='50%'),…"
      ]
     },
     "metadata": {},
     "output_type": "display_data"
    },
    {
     "name": "stdout",
     "output_type": "stream",
     "text": [
      "['id', 'dateAdded', 'dateUpdated', 'address', 'categories', 'primaryCategories', 'city', 'country', 'keys', 'latitude', 'longitude', 'name', 'postalCode', 'province', 'reviews.date', 'reviews.dateSeen', 'reviews.rating', 'reviews.sourceURLs', 'reviews.text', 'reviews.title', 'reviews.userCity', 'reviews.userProvince', 'reviews.username', 'sourceURLs', 'websites']"
     ]
    }
   ],
   "source": [
    "def rename(df, old_columns, new_columns):\n",
    "    for old_col,new_col in zip(old_columns,new_columns):\n",
    "        df = df.withColumnRenamed(old_col,new_col)\n",
    "    return df\n",
    "oldColumns = hotel_df_temp.schema.names\n",
    "print(oldColumns)\n",
    "newColumns = [\"hotel_id\", \"dateAdded\",\"dateUpdated\",\"address\",\"categories\",\"primaryCategories\",\"city\",\"country\",\"keys\",\"latitude\",\"longitude\",\"name\",\"postalCode\",\"province\",\"reviews_date\",\"reviews_dateSeen\",\"reviews_rating\",\"reviews_sourceURLs\",\"reviews_text\",\"reviews_title\",\"reviews_userCity\",\"reviews_userProvince\",\"reviews_username\",\"sourceURLs\",\"websites\"]\n",
    "hotel_df_original = rename(hotel_df_temp, oldColumns, newColumns)"
   ]
  },
  {
   "cell_type": "markdown",
   "metadata": {},
   "source": [
    "## Replace NaN values"
   ]
  },
  {
   "cell_type": "code",
   "execution_count": 12,
   "metadata": {},
   "outputs": [
    {
     "data": {
      "application/vnd.jupyter.widget-view+json": {
       "model_id": "421e4d0d18194359bc28d7271a2a52f2",
       "version_major": 2,
       "version_minor": 0
      },
      "text/plain": [
       "VBox()"
      ]
     },
     "metadata": {},
     "output_type": "display_data"
    },
    {
     "data": {
      "application/vnd.jupyter.widget-view+json": {
       "model_id": "",
       "version_major": 2,
       "version_minor": 0
      },
      "text/plain": [
       "FloatProgress(value=0.0, bar_style='info', description='Progress:', layout=Layout(height='25px', width='50%'),…"
      ]
     },
     "metadata": {},
     "output_type": "display_data"
    },
    {
     "name": "stdout",
     "output_type": "stream",
     "text": [
      "9998\n",
      "root\n",
      " |-- hotel_id: string (nullable = true)\n",
      " |-- dateAdded: string (nullable = true)\n",
      " |-- dateUpdated: string (nullable = true)\n",
      " |-- address: string (nullable = true)\n",
      " |-- categories: string (nullable = true)\n",
      " |-- primaryCategories: string (nullable = true)\n",
      " |-- city: string (nullable = true)\n",
      " |-- country: string (nullable = true)\n",
      " |-- keys: string (nullable = true)\n",
      " |-- latitude: string (nullable = true)\n",
      " |-- longitude: string (nullable = true)\n",
      " |-- name: string (nullable = true)\n",
      " |-- postalCode: string (nullable = true)\n",
      " |-- province: string (nullable = true)\n",
      " |-- reviews_date: string (nullable = true)\n",
      " |-- reviews_dateSeen: string (nullable = true)\n",
      " |-- reviews_rating: string (nullable = true)\n",
      " |-- reviews_sourceURLs: string (nullable = true)\n",
      " |-- reviews_text: string (nullable = true)\n",
      " |-- reviews_title: string (nullable = true)\n",
      " |-- reviews_userCity: string (nullable = false)\n",
      " |-- reviews_userProvince: string (nullable = false)\n",
      " |-- reviews_username: string (nullable = true)\n",
      " |-- sourceURLs: string (nullable = true)\n",
      " |-- websites: string (nullable = true)"
     ]
    }
   ],
   "source": [
    "hotel_df_original = hotel_df_original.filter(hotel_df_original.reviews_username.isNotNull())\n",
    "print(hotel_df_original.count())\n",
    "colNames = ['reviews_userCity','reviews_userProvince']\n",
    "hotel_df_original = hotel_df_original.na.fill(\"Not given\", colNames)\n",
    "\n",
    "hotel_df_original.printSchema()"
   ]
  },
  {
   "cell_type": "markdown",
   "metadata": {},
   "source": [
    "## Exploratory Analysis"
   ]
  },
  {
   "cell_type": "code",
   "execution_count": 13,
   "metadata": {},
   "outputs": [
    {
     "data": {
      "application/vnd.jupyter.widget-view+json": {
       "model_id": "c8d29504028d4a4db3bba2101af7fb9c",
       "version_major": 2,
       "version_minor": 0
      },
      "text/plain": [
       "VBox()"
      ]
     },
     "metadata": {},
     "output_type": "display_data"
    },
    {
     "data": {
      "application/vnd.jupyter.widget-view+json": {
       "model_id": "",
       "version_major": 2,
       "version_minor": 0
      },
      "text/plain": [
       "FloatProgress(value=0.0, bar_style='info', description='Progress:', layout=Layout(height='25px', width='50%'),…"
      ]
     },
     "metadata": {},
     "output_type": "display_data"
    },
    {
     "name": "stdout",
     "output_type": "stream",
     "text": [
      "root\n",
      " |-- hotel_id: string (nullable = true)\n",
      " |-- name: string (nullable = true)\n",
      " |-- address: string (nullable = true)\n",
      " |-- categories: string (nullable = true)\n",
      " |-- primaryCategories: string (nullable = true)\n",
      " |-- city: string (nullable = true)\n",
      " |-- country: string (nullable = true)\n",
      " |-- keys: string (nullable = true)\n",
      " |-- latitude: string (nullable = true)\n",
      " |-- longitude: string (nullable = true)\n",
      " |-- postalCode: string (nullable = true)\n",
      " |-- province: string (nullable = true)\n",
      "\n",
      "1853\n",
      "1853"
     ]
    }
   ],
   "source": [
    "hotel_df = hotel_df_original.select('hotel_id', 'name','address','categories','primaryCategories','city','country','keys','latitude','longitude','postalCode','province').persist()\n",
    "\n",
    "hotel_df =hotel_df.dropDuplicates(['hotel_id'])\n",
    "\n",
    "hotel_df.printSchema()\n",
    "print(hotel_df.count())\n",
    "hotel_df.distinct().count()"
   ]
  },
  {
   "cell_type": "code",
   "execution_count": 14,
   "metadata": {},
   "outputs": [
    {
     "data": {
      "application/vnd.jupyter.widget-view+json": {
       "model_id": "4754ad5f873944dcb1ce5ce7ded40d26",
       "version_major": 2,
       "version_minor": 0
      },
      "text/plain": [
       "VBox()"
      ]
     },
     "metadata": {},
     "output_type": "display_data"
    },
    {
     "data": {
      "application/vnd.jupyter.widget-view+json": {
       "model_id": "",
       "version_major": 2,
       "version_minor": 0
      },
      "text/plain": [
       "FloatProgress(value=0.0, bar_style='info', description='Progress:', layout=Layout(height='25px', width='50%'),…"
      ]
     },
     "metadata": {},
     "output_type": "display_data"
    },
    {
     "name": "stdout",
     "output_type": "stream",
     "text": [
      "7234\n",
      "root\n",
      " |-- reviews_username: string (nullable = true)\n",
      " |-- reviews_userCity: string (nullable = false)\n",
      " |-- reviews_userProvince: string (nullable = false)"
     ]
    }
   ],
   "source": [
    "user_df = hotel_df_original.select( 'reviews_username','reviews_userCity','reviews_userProvince')\n",
    "\n",
    "user_df =user_df.dropDuplicates(['reviews_username','reviews_userCity','reviews_userProvince'])\n",
    "print(user_df.count())\n",
    "user_df.printSchema()"
   ]
  },
  {
   "cell_type": "code",
   "execution_count": 15,
   "metadata": {},
   "outputs": [
    {
     "data": {
      "application/vnd.jupyter.widget-view+json": {
       "model_id": "9d53badf6a9d404caf4fb1691d6dd558",
       "version_major": 2,
       "version_minor": 0
      },
      "text/plain": [
       "VBox()"
      ]
     },
     "metadata": {},
     "output_type": "display_data"
    },
    {
     "data": {
      "application/vnd.jupyter.widget-view+json": {
       "model_id": "",
       "version_major": 2,
       "version_minor": 0
      },
      "text/plain": [
       "FloatProgress(value=0.0, bar_style='info', description='Progress:', layout=Layout(height='25px', width='50%'),…"
      ]
     },
     "metadata": {},
     "output_type": "display_data"
    },
    {
     "name": "stdout",
     "output_type": "stream",
     "text": [
      "root\n",
      " |-- hotel_id: string (nullable = true)\n",
      " |-- dateAdded: string (nullable = true)\n",
      " |-- dateUpdated: string (nullable = true)\n",
      " |-- address: string (nullable = true)\n",
      " |-- categories: string (nullable = true)\n",
      " |-- primaryCategories: string (nullable = true)\n",
      " |-- city: string (nullable = true)\n",
      " |-- country: string (nullable = true)\n",
      " |-- keys: string (nullable = true)\n",
      " |-- latitude: string (nullable = true)\n",
      " |-- longitude: string (nullable = true)\n",
      " |-- name: string (nullable = true)\n",
      " |-- postalCode: string (nullable = true)\n",
      " |-- province: string (nullable = true)\n",
      " |-- reviews_date: string (nullable = true)\n",
      " |-- reviews_dateSeen: string (nullable = true)\n",
      " |-- reviews_rating: string (nullable = true)\n",
      " |-- reviews_sourceURLs: string (nullable = true)\n",
      " |-- reviews_text: string (nullable = true)\n",
      " |-- reviews_title: string (nullable = true)\n",
      " |-- reviews_userCity: string (nullable = false)\n",
      " |-- reviews_userProvince: string (nullable = false)\n",
      " |-- reviews_username: string (nullable = true)\n",
      " |-- sourceURLs: string (nullable = true)\n",
      " |-- websites: string (nullable = true)\n",
      " |-- index: integer (nullable = true)"
     ]
    }
   ],
   "source": [
    "from pyspark.sql.window import Window  \n",
    "w = Window.orderBy(\"hotel_id\") \n",
    "hotel_df_original = hotel_df_original.withColumn(\"index\", row_number().over(w))\n",
    "hotel_df_original.printSchema()"
   ]
  },
  {
   "cell_type": "code",
   "execution_count": 16,
   "metadata": {},
   "outputs": [
    {
     "data": {
      "application/vnd.jupyter.widget-view+json": {
       "model_id": "513ffda36a8d449682bd4a12cfd81d6c",
       "version_major": 2,
       "version_minor": 0
      },
      "text/plain": [
       "VBox()"
      ]
     },
     "metadata": {},
     "output_type": "display_data"
    },
    {
     "data": {
      "application/vnd.jupyter.widget-view+json": {
       "model_id": "",
       "version_major": 2,
       "version_minor": 0
      },
      "text/plain": [
       "FloatProgress(value=0.0, bar_style='info', description='Progress:', layout=Layout(height='25px', width='50%'),…"
      ]
     },
     "metadata": {},
     "output_type": "display_data"
    },
    {
     "name": "stdout",
     "output_type": "stream",
     "text": [
      "root\n",
      " |-- index: integer (nullable = true)\n",
      " |-- hotel_id: string (nullable = true)\n",
      " |-- reviews_username: string (nullable = true)\n",
      " |-- reviews_date: string (nullable = true)\n",
      " |-- reviews_dateSeen: string (nullable = true)\n",
      " |-- reviews_rating: string (nullable = true)\n",
      " |-- reviews_sourceURLs: string (nullable = true)\n",
      " |-- reviews_text: string (nullable = true)\n",
      " |-- reviews_title: string (nullable = true)\n",
      " |-- reviews_userCity: string (nullable = false)\n",
      " |-- reviews_userProvince: string (nullable = false)"
     ]
    }
   ],
   "source": [
    "review_df = hotel_df_original.select( 'index','hotel_id','reviews_username','reviews_date','reviews_dateSeen','reviews_rating','reviews_sourceURLs','reviews_text','reviews_title','reviews_userCity','reviews_userProvince')\n",
    "review_df.printSchema()\n"
   ]
  },
  {
   "cell_type": "code",
   "execution_count": 18,
   "metadata": {},
   "outputs": [
    {
     "data": {
      "application/vnd.jupyter.widget-view+json": {
       "model_id": "1584cf17514644dfb88a43e5482d4aff",
       "version_major": 2,
       "version_minor": 0
      },
      "text/plain": [
       "VBox()"
      ]
     },
     "metadata": {},
     "output_type": "display_data"
    },
    {
     "data": {
      "application/vnd.jupyter.widget-view+json": {
       "model_id": "",
       "version_major": 2,
       "version_minor": 0
      },
      "text/plain": [
       "FloatProgress(value=0.0, bar_style='info', description='Progress:', layout=Layout(height='25px', width='50%'),…"
      ]
     },
     "metadata": {},
     "output_type": "display_data"
    },
    {
     "name": "stdout",
     "output_type": "stream",
     "text": [
      "root\n",
      " |-- reviews_username: string (nullable = true)\n",
      " |-- reviews_userCity: string (nullable = false)\n",
      " |-- reviews_userProvince: string (nullable = false)\n",
      " |-- uid: integer (nullable = true)\n",
      "\n",
      "7234"
     ]
    }
   ],
   "source": [
    "w = Window.orderBy('reviews_username','reviews_userCity','reviews_userProvince')\n",
    "user_new_df = user_df.withColumn(\"uid\", row_number().over(w))\n",
    "\n",
    "user_new_df.printSchema()\n",
    "user_new_df.count()"
   ]
  },
  {
   "cell_type": "code",
   "execution_count": 19,
   "metadata": {},
   "outputs": [
    {
     "data": {
      "application/vnd.jupyter.widget-view+json": {
       "model_id": "78f1a9e77e2641a5bfdbf49e20ac026c",
       "version_major": 2,
       "version_minor": 0
      },
      "text/plain": [
       "VBox()"
      ]
     },
     "metadata": {},
     "output_type": "display_data"
    },
    {
     "data": {
      "application/vnd.jupyter.widget-view+json": {
       "model_id": "",
       "version_major": 2,
       "version_minor": 0
      },
      "text/plain": [
       "FloatProgress(value=0.0, bar_style='info', description='Progress:', layout=Layout(height='25px', width='50%'),…"
      ]
     },
     "metadata": {},
     "output_type": "display_data"
    },
    {
     "name": "stdout",
     "output_type": "stream",
     "text": [
      "root\n",
      " |-- reviews_username: string (nullable = true)\n",
      " |-- reviews_userCity: string (nullable = false)\n",
      " |-- reviews_userProvince: string (nullable = false)\n",
      " |-- uid: integer (nullable = true)\n",
      "\n",
      "7234"
     ]
    }
   ],
   "source": [
    "\n",
    "user_new_df.printSchema()\n",
    "user_new_df.distinct().count()"
   ]
  },
  {
   "cell_type": "code",
   "execution_count": 20,
   "metadata": {},
   "outputs": [
    {
     "data": {
      "application/vnd.jupyter.widget-view+json": {
       "model_id": "7bcb025d9fd64484b6f329b0e8affb29",
       "version_major": 2,
       "version_minor": 0
      },
      "text/plain": [
       "VBox()"
      ]
     },
     "metadata": {},
     "output_type": "display_data"
    },
    {
     "data": {
      "application/vnd.jupyter.widget-view+json": {
       "model_id": "",
       "version_major": 2,
       "version_minor": 0
      },
      "text/plain": [
       "FloatProgress(value=0.0, bar_style='info', description='Progress:', layout=Layout(height='25px', width='50%'),…"
      ]
     },
     "metadata": {},
     "output_type": "display_data"
    },
    {
     "name": "stdout",
     "output_type": "stream",
     "text": [
      "root\n",
      " |-- hotel_id: string (nullable = true)\n",
      " |-- average_rating: double (nullable = true)"
     ]
    }
   ],
   "source": [
    "hotel_df_original.registerTempTable(\"temp\")\n",
    "df2 = sqlContext.sql(\"select hotel_id,avg(reviews_rating) as average_rating from temp group by hotel_id\")\n",
    "df2.printSchema()"
   ]
  },
  {
   "cell_type": "code",
   "execution_count": 21,
   "metadata": {},
   "outputs": [
    {
     "data": {
      "application/vnd.jupyter.widget-view+json": {
       "model_id": "0c0aaf80872e4b03bfa59bb31f9edfa4",
       "version_major": 2,
       "version_minor": 0
      },
      "text/plain": [
       "VBox()"
      ]
     },
     "metadata": {},
     "output_type": "display_data"
    },
    {
     "data": {
      "application/vnd.jupyter.widget-view+json": {
       "model_id": "",
       "version_major": 2,
       "version_minor": 0
      },
      "text/plain": [
       "FloatProgress(value=0.0, bar_style='info', description='Progress:', layout=Layout(height='25px', width='50%'),…"
      ]
     },
     "metadata": {},
     "output_type": "display_data"
    },
    {
     "name": "stdout",
     "output_type": "stream",
     "text": [
      "root\n",
      " |-- hotel_id: string (nullable = true)\n",
      " |-- name: string (nullable = true)\n",
      " |-- address: string (nullable = true)\n",
      " |-- categories: string (nullable = true)\n",
      " |-- primaryCategories: string (nullable = true)\n",
      " |-- city: string (nullable = true)\n",
      " |-- country: string (nullable = true)\n",
      " |-- keys: string (nullable = true)\n",
      " |-- latitude: string (nullable = true)\n",
      " |-- longitude: string (nullable = true)\n",
      " |-- postalCode: string (nullable = true)\n",
      " |-- province: string (nullable = true)\n",
      " |-- average_rating: double (nullable = true)"
     ]
    }
   ],
   "source": [
    "a = hotel_df.alias(\"a\")\n",
    "b = df2.alias(\"b\")\n",
    "  \n",
    "hotel_df_with_avgRating = a.join(b, col(\"a.hotel_id\") == col(\"b.hotel_id\"), 'inner') \\\n",
    "             .select([col('a.'+xx) for xx in a.columns] + [col('b.average_rating')])\n",
    "\n",
    "#business_df.show(2)\n",
    "hotel_df_with_avgRating.printSchema()"
   ]
  },
  {
   "cell_type": "code",
   "execution_count": 22,
   "metadata": {},
   "outputs": [
    {
     "data": {
      "application/vnd.jupyter.widget-view+json": {
       "model_id": "8b2191ea7cf640f69cabab2628375781",
       "version_major": 2,
       "version_minor": 0
      },
      "text/plain": [
       "VBox()"
      ]
     },
     "metadata": {},
     "output_type": "display_data"
    },
    {
     "data": {
      "application/vnd.jupyter.widget-view+json": {
       "model_id": "",
       "version_major": 2,
       "version_minor": 0
      },
      "text/plain": [
       "FloatProgress(value=0.0, bar_style='info', description='Progress:', layout=Layout(height='25px', width='50%'),…"
      ]
     },
     "metadata": {},
     "output_type": "display_data"
    },
    {
     "name": "stdout",
     "output_type": "stream",
     "text": [
      "root\n",
      " |-- hotel_id: string (nullable = true)\n",
      " |-- Id: integer (nullable = true)"
     ]
    }
   ],
   "source": [
    "hotel_newid_df = sqlContext.createDataFrame(hotel_df.rdd.map(lambda x: x[0]).zipWithIndex(), \\\n",
    "        StructType([StructField(\"hotel_id\", StringType(), True),StructField(\"Id\", IntegerType(), True)])).persist()\n",
    "\n",
    "#business_newid_df.distinct().count()\n",
    "hotel_newid_df.printSchema()"
   ]
  },
  {
   "cell_type": "code",
   "execution_count": 23,
   "metadata": {},
   "outputs": [
    {
     "data": {
      "application/vnd.jupyter.widget-view+json": {
       "model_id": "3988adf3966449a7a346e86ff57d4633",
       "version_major": 2,
       "version_minor": 0
      },
      "text/plain": [
       "VBox()"
      ]
     },
     "metadata": {},
     "output_type": "display_data"
    },
    {
     "data": {
      "application/vnd.jupyter.widget-view+json": {
       "model_id": "",
       "version_major": 2,
       "version_minor": 0
      },
      "text/plain": [
       "FloatProgress(value=0.0, bar_style='info', description='Progress:', layout=Layout(height='25px', width='50%'),…"
      ]
     },
     "metadata": {},
     "output_type": "display_data"
    },
    {
     "name": "stdout",
     "output_type": "stream",
     "text": [
      "+--------------------+--------------------+--------------------+--------------------+--------------------+-------------+-------+--------------------+---------+-----------+----------+--------+-----------------+\n",
      "|            hotel_id|                name|             address|          categories|   primaryCategories|         city|country|                keys| latitude|  longitude|postalCode|province|   average_rating|\n",
      "+--------------------+--------------------+--------------------+--------------------+--------------------+-------------+-------+--------------------+---------+-----------+----------+--------+-----------------+\n",
      "|AVweOoAPkufWRAb5BHJO|Portland Regency ...|          20 Milk St|Hotels,Bar,Lounge...|Accommodation & F...|     Portland|     US|us/me/portland/20...|  43.6569|  -70.25256|      4101|      ME|4.444444444444445|\n",
      "|AVwcgvkEkufWRAb5v9BO|    Super 8 St Cloud|       50 Park Ave S|Lodging,Motels,Ho...|Accommodation & F...|  Saint Cloud|     US|us/mn/saintcloud/...| 45.55158|  -94.20826|     56301|      MN|              1.0|\n",
      "|AVwdmfCq_7pvs4fz7fzs|Best Western Fost...|1690 N Countyline St|Hotels,Lodging,Hotel|Accommodation & F...|     Fostoria|     US|us/oh/fostoria/16...| 41.18055|  -83.41996|     44830|      OH|              4.5|\n",
      "|AVwdnk8DByjofQCxq5QQ|Hawthorn Suites B...|      3303 Troup Hwy|Hotels and motels...|Accommodation & F...|        Tyler|     US|us/tx/tyler/3303t...| 32.31305|  -95.27633|     75701|      TX|              3.0|\n",
      "|AVwddQuQ_7pvs4fz6GMw|       Appletree Inn|        201 N 8th St|Building,Bed Brea...|Accommodation & F...| Independence|     US|us/ks/independenc...|37.225001| -95.708515|     67301|      KS|              4.0|\n",
      "|AVweJHMNkufWRAb5AXKd|Hampton Inn Suite...|     2610 Pearson Dr|Lodging,Corporate...|Accommodation & F...|       Hudson|     US|us/wi/hudson/2610...|  44.9577|  -92.72025|     54016|      WI|4.666666666666667|\n",
      "|AVwdvAQP_7pvs4fz8xub|Hampton Inn Suite...|      4600 Summit St|Lodging,Hotels,Co...|Accommodation & F...|  Kansas City|     US|us/mo/kansascity/...|  39.0438|  -94.59647|     64112|      MO|4.166666666666667|\n",
      "|AVwc-NsU_7pvs4fz06Ky|     Cooper Hill Inn|  117 Cooper Hill Rd|Hotels and motels...|Accommodation & F...|   East Dover|     US|us/vt/eastdover/1...|  42.9556|   -72.8101|      5341|      VT|              5.0|\n",
      "|AVwckxAEkufWRAb5wr0H|Courtyard Sunnyva...|660 W El Camino Real|        Hotel,Hotels|Accommodation & F...|    Sunnyvale|     US|us/ca/sunnyvale/6...|37.369386|-122.039079|     94087|      CA|              5.0|\n",
      "|AWEw3i5yRxPSIh2RsYCd|Suncoast Hotel an...|        9090 Alta Dr|Hotels,Casinos,Re...|Accommodation & F...|    Las Vegas|     US|us/nv/lasvegas/90...| 36.16883| -115.29116|89145-8508|      NV|3.913793103448276|\n",
      "|AVwdLK44ByjofQCxmRk9|  Red Roof Inn Salem|      15 Red Roof Ln|Hotels and motels...|Accommodation & F...|        Salem|     US|us/nh/salem/15red...| 42.77919|  -71.24128|      3079|      NH|              4.0|\n",
      "|AVwcfx4KByjofQCxe4YR|   West Street Hotel|          50 West St|Hotels and motels...|Accommodation & F...|   Bar Harbor|     US|us/me/barharbor/5...|  44.3909|   -68.2066|      4609|      ME|              4.8|\n",
      "|AVwdSL7dIN2L1WUfuMMQ|  Courtyard Columbia|  8910 Stanford Blvd|Hotel,Hotels Mote...|Accommodation & F...|     Columbia|     US|us/md/columbia/89...|39.191868| -76.816211|     21045|      MD|4.666666666666667|\n",
      "|AVwc2TYnByjofQCxi2dW|          Budget Inn|   435 S Franklin St|Hotels and motels...|Accommodation & F...| Watkins Glen|     US|us/ny/watkinsglen...|  42.3702|   -76.8679|     14891|      NY|              1.5|\n",
      "|AVwebDxxIN2L1WUf4xWe|Hampton Inn Suite...|      900 N Canal Rd|Hotels,Lodging,Co...|Accommodation & F...|      Lansing|     US|us/mi/lansing/900...|  42.7441|  -84.66112|     48917|      MI|              4.0|\n",
      "|AV1eTVLfa4HuVbed6v61|Best Western Plus...|   4201 4th Ave West| Hotel,Hotels Motels|Accommodation & F...|    Williston|     US|us/nd/williston/4...| 48.18328| -103.62949|     58801|      ND|              5.0|\n",
      "|AV1flynma4HuVbed66sW|Crossland Economy...|     2101 N Meridian|Hotels,Motels,Cor...|Accommodation & F...|     Puyallup|     US|us/wa/puyallup/21...|47.208492| -122.29389|     98371|      WA|              5.0|\n",
      "|AVweJiq4kufWRAb5AbFH|Best Western-ashb...|      820 Shoneys Dr|Hotels,Hotels and...|Accommodation & F...|      Ashburn|     US|us/ga/ashburn/820...| 31.71023|  -83.63835|     31714|      GA|              4.0|\n",
      "|AVweUPttByjofQCxxJK6|    Hartsville Motel|        806 N 5th St|Motels,Hotels,Lod...|Accommodation & F...|   Hartsville|     US|us/sc/hartsville/...| 34.38305|  -80.07719|     29550|      SC|              2.0|\n",
      "|AVwdbNKPIN2L1WUfvrq6|Extended Stay Ame...|6630 Old Collamer Rd|Hotel,Motel,Hotel...|Accommodation & F...|East Syracuse|     US|us/ny/eastsyracus...| 43.09207|   -76.0844|     13057|      NY|              4.0|\n",
      "+--------------------+--------------------+--------------------+--------------------+--------------------+-------------+-------+--------------------+---------+-----------+----------+--------+-----------------+\n",
      "only showing top 20 rows\n",
      "\n",
      "+---+--------------------+----------------+\n",
      "| Id|            hotel_id|            name|\n",
      "+---+--------------------+----------------+\n",
      "|  0|AVwcgvkEkufWRAb5v9BO|Super 8 St Cloud|\n",
      "|  1|AVwddQuQ_7pvs4fz6GMw|   Appletree Inn|\n",
      "+---+--------------------+----------------+\n",
      "only showing top 2 rows\n",
      "\n",
      "root\n",
      " |-- hotel_id: string (nullable = true)\n",
      " |-- name: string (nullable = true)\n",
      " |-- address: string (nullable = true)\n",
      " |-- categories: string (nullable = true)\n",
      " |-- primaryCategories: string (nullable = true)\n",
      " |-- city: string (nullable = true)\n",
      " |-- country: string (nullable = true)\n",
      " |-- keys: string (nullable = true)\n",
      " |-- latitude: string (nullable = true)\n",
      " |-- longitude: string (nullable = true)\n",
      " |-- postalCode: string (nullable = true)\n",
      " |-- province: string (nullable = true)\n",
      " |-- average_rating: double (nullable = true)\n",
      " |-- Id: integer (nullable = true)\n",
      "\n",
      "1853"
     ]
    }
   ],
   "source": [
    "a = hotel_df_with_avgRating.alias(\"a\")\n",
    "a.show()\n",
    "b = hotel_newid_df.alias(\"b\")\n",
    "    \n",
    "hotel_new_df = a.join(b, col(\"a.hotel_id\") == col(\"b.hotel_id\"), 'inner') \\\n",
    "             .select([col('a.'+xx) for xx in a.columns] + [col('b.Id')])\n",
    "\n",
    "hotel_new_df.select('Id','hotel_id', 'name').show(2)\n",
    "hotel_new_df.printSchema()\n",
    "hotel_new_df.count()"
   ]
  },
  {
   "cell_type": "code",
   "execution_count": 24,
   "metadata": {},
   "outputs": [
    {
     "data": {
      "application/vnd.jupyter.widget-view+json": {
       "model_id": "10bf49f6ccfb4f87ae819b8d89e64227",
       "version_major": 2,
       "version_minor": 0
      },
      "text/plain": [
       "VBox()"
      ]
     },
     "metadata": {},
     "output_type": "display_data"
    },
    {
     "data": {
      "application/vnd.jupyter.widget-view+json": {
       "model_id": "",
       "version_major": 2,
       "version_minor": 0
      },
      "text/plain": [
       "FloatProgress(value=0.0, bar_style='info', description='Progress:', layout=Layout(height='25px', width='50%'),…"
      ]
     },
     "metadata": {},
     "output_type": "display_data"
    },
    {
     "name": "stdout",
     "output_type": "stream",
     "text": [
      "root\n",
      " |-- index: integer (nullable = true)\n",
      " |-- hotel_id: string (nullable = true)\n",
      " |-- reviews_username: string (nullable = true)\n",
      " |-- reviews_date: string (nullable = true)\n",
      " |-- reviews_dateSeen: string (nullable = true)\n",
      " |-- reviews_rating: string (nullable = true)\n",
      " |-- reviews_sourceURLs: string (nullable = true)\n",
      " |-- reviews_text: string (nullable = true)\n",
      " |-- reviews_title: string (nullable = true)\n",
      " |-- reviews_userCity: string (nullable = false)\n",
      " |-- reviews_userProvince: string (nullable = false)\n",
      "\n",
      "9998\n",
      "+-----+--------------------+----------------+--------------------+--------------------+--------------+--------------------+--------------------+--------------------+----------------+--------------------+\n",
      "|index|            hotel_id|reviews_username|        reviews_date|    reviews_dateSeen|reviews_rating|  reviews_sourceURLs|        reviews_text|       reviews_title|reviews_userCity|reviews_userProvince|\n",
      "+-----+--------------------+----------------+--------------------+--------------------+--------------+--------------------+--------------------+--------------------+----------------+--------------------+\n",
      "|    1|AV-TGsFqRxPSIh2RmVF-|            Lori|2018-03-30T00:00:...|2018-04-14T00:00:00Z|           4.6|https://www.booki...|Bad: Timing seeme...|Great location to...|       Not given|           Not given|\n",
      "|    2|AV-TGsFqRxPSIh2RmVF-|         Rohanna|2018-02-13T00:00:...|2018-03-27T00:00:...|           4.8|https://www.booki...|Good: I loved the...|I loved the quirk...|       Not given|           Not given|\n",
      "|    3|AV-TGsFqRxPSIh2RmVF-|           Maria|2016-09-22T00:00:...|2018-04-08T00:00:...|          4.15|https://www.booki...|Bad: I was suppos...|      Clean and cozy|       Not given|           Not given|\n",
      "|    4|AV-TGsFqRxPSIh2RmVF-|            Rami|2017-01-29T00:00:...|2018-02-14T00:00:00Z|           2.5|https://www.booki...|Staff weren't hel...|Poor hotel option...|       Not given|           Not given|\n",
      "|    5|AV-TGsFqRxPSIh2RmVF-|         Matthew|2015-01-16T00:00:...|2018-05-08T00:00:00Z|          3.95|https://www.booki...|Bad: Cost of the ...|Location to the g...|       Not given|           Not given|\n",
      "|    6|AV-TGsFqRxPSIh2RmVF-|             mxk|2017-01-04T00:00:...|2018-03-27T00:00:...|           4.6|https://www.booki...|Bad: (Valet) park...|   Complete and good|       Not given|           Not given|\n",
      "|    7|AV-TGsFqRxPSIh2RmVF-|     Marcia Uy 1|2017-09-03T00:00:...|2018-03-28T00:00:...|             5|https://www.booki...|Good: Beautiful r...|             Perfect|       Not given|           Not given|\n",
      "|    8|AV-TGsFqRxPSIh2RmVF-|          Kerran|2016-12-31T00:00:...|2018-02-14T00:00:00Z|             5|https://www.booki...|Great location. E...|Dont look past Th...|       Not given|           Not given|\n",
      "|    9|AV-TGsFqRxPSIh2RmVF-|           Derek|2017-10-31T00:00:...|2018-03-27T00:00:...|             5|https://www.booki...|Good: The room wa...|Great location fo...|       Not given|           Not given|\n",
      "|   10|AV-TGsFqRxPSIh2RmVF-|            Hans|2016-04-30T00:00:...|2018-02-14T00:00:00Z|           2.9|https://www.booki...|the breakfast at ...|nice place but wa...|       Not given|           Not given|\n",
      "|   11|AV-TGsFqRxPSIh2RmVF-|          Adrian|2016-08-02T00:00:...|2018-03-28T00:00:...|           2.9|https://www.booki...|Bad: We had booke...|The Boxer Boston ...|       Not given|           Not given|\n",
      "|   12|AV-TGsFqRxPSIh2RmVF-|         Gabriel|2016-05-07T00:00:...|2018-04-08T00:00:...|             4|https://www.booki...|Bad: poor room co...|   poor room comfort|       Not given|           Not given|\n",
      "|   13|AV-TGsFqRxPSIh2RmVF-|            Lisa|2017-11-02T00:00:...|2018-03-27T00:00:...|             5|https://www.booki...|Good: The whole 5...|The whole 5 day e...|       Not given|           Not given|\n",
      "|   14|AV-TGsFqRxPSIh2RmVF-|           Larry|2017-02-01T00:00:...|2018-02-14T00:00:00Z|             5|https://www.booki...|        The location|        The location|       Not given|           Not given|\n",
      "|   15|AV-TGsFqRxPSIh2RmVF-|          Justin|2015-01-16T00:00:...|2018-05-08T00:00:00Z|             5|https://www.booki...|Bad: Parking a li...|  Close to TD Garden|       Not given|           Not given|\n",
      "|   16|AV-TGsFqRxPSIh2RmVF-|          Marius|2016-11-08T00:00:...|2018-02-14T00:00:00Z|          3.35|https://www.booki...|Fitness center sm...|      Good location.|       Not given|           Not given|\n",
      "|   17|AV-TGsFqRxPSIh2RmVF-|           AydaY|2016-07-10T00:00:...|2018-04-08T00:00:...|             5|https://www.booki...|Bad: Nothing. Goo...|The coolest hotel...|       Not given|           Not given|\n",
      "|   18|AV-TGsFqRxPSIh2RmVF-|           Blake|2016-05-03T00:00:...|2018-02-14T00:00:00Z|           4.6|https://www.booki...|I didn't like the...|They were very ac...|       Not given|           Not given|\n",
      "|   19|AV-TGsFqRxPSIh2RmVF-|         Kirsten|2016-11-10T00:00:...|2018-04-08T00:00:...|             5|https://www.booki...|Good: Very quaint...|IN THE HEART OF B...|       Not given|           Not given|\n",
      "|   20|AV-TGsFqRxPSIh2RmVF-|            Paul|2016-09-15T00:00:...|2018-03-28T00:00:...|          3.75|https://www.booki...|Bad: We had break...| Good but not great.|       Not given|           Not given|\n",
      "+-----+--------------------+----------------+--------------------+--------------------+--------------+--------------------+--------------------+--------------------+----------------+--------------------+\n",
      "only showing top 20 rows"
     ]
    }
   ],
   "source": [
    "review_df.printSchema()\n",
    "print(review_df.distinct().count())\n",
    "review_df.show()"
   ]
  },
  {
   "cell_type": "code",
   "execution_count": 25,
   "metadata": {},
   "outputs": [
    {
     "data": {
      "application/vnd.jupyter.widget-view+json": {
       "model_id": "d3b7d8364e1d444da145b734e3233e04",
       "version_major": 2,
       "version_minor": 0
      },
      "text/plain": [
       "VBox()"
      ]
     },
     "metadata": {},
     "output_type": "display_data"
    },
    {
     "data": {
      "application/vnd.jupyter.widget-view+json": {
       "model_id": "",
       "version_major": 2,
       "version_minor": 0
      },
      "text/plain": [
       "FloatProgress(value=0.0, bar_style='info', description='Progress:', layout=Layout(height='25px', width='50%'),…"
      ]
     },
     "metadata": {},
     "output_type": "display_data"
    },
    {
     "name": "stdout",
     "output_type": "stream",
     "text": [
      "root\n",
      " |-- reviews_username: string (nullable = true)\n",
      " |-- reviews_userCity: string (nullable = false)\n",
      " |-- reviews_userProvince: string (nullable = false)\n",
      " |-- uid: integer (nullable = true)\n",
      "\n",
      "7234\n",
      "7234\n",
      "+-----------------+--------------------+--------------------+---+\n",
      "| reviews_username|    reviews_userCity|reviews_userProvince|uid|\n",
      "+-----------------+--------------------+--------------------+---+\n",
      "| die Lage super.\"|      dasBett bequem| das Personal fre...|  1|\n",
      "|        soap scum| etc. - very unsa...| leaving shaving ...|  2|\n",
      "|    'Sina Bamtefa|           Not given|           Not given|  3|\n",
      "|          007lele|            Edmonton|           Not given|  4|\n",
      "|         0501MVKG|         Spring Hill|                  TN|  5|\n",
      "|          0ls0njo|                Lodi|                  WI|  6|\n",
      "|         0theHero|           Not given|           Not given|  7|\n",
      "|       103bennier|         West Branch|                  MI|  8|\n",
      "|       106PamelaL|               Moody|           Not given|  9|\n",
      "|        108peggyt|    Galveston Island|                  TX| 10|\n",
      "|    112traveler47|           Jamestown|             NewYork| 11|\n",
      "|         121dawne|           Not given|           Not given| 12|\n",
      "|       1235ericat|         Granite Bay|                  CA| 13|\n",
      "|         12bettyh|            Tazewell|                  VA| 14|\n",
      "|        13Chris14|           New Lenox|                  IL| 15|\n",
      "|        144tonyac|                Mesa|           Not given| 16|\n",
      "|     146maryw2016|           Kingsland|                  GA| 17|\n",
      "|       155hannahp|           Milwaukee|           Not given| 18|\n",
      "|      157saundrac|        Philadelphia|                  PA| 19|\n",
      "|        185robynp|           Melbourne|           Australia| 20|\n",
      "+-----------------+--------------------+--------------------+---+\n",
      "only showing top 20 rows"
     ]
    }
   ],
   "source": [
    "user_new_df.printSchema()\n",
    "print(user_new_df.distinct().count())\n",
    "print(user_new_df.count())\n",
    "\n",
    "user_new_df.show()"
   ]
  },
  {
   "cell_type": "code",
   "execution_count": null,
   "metadata": {},
   "outputs": [],
   "source": []
  },
  {
   "cell_type": "code",
   "execution_count": 26,
   "metadata": {},
   "outputs": [
    {
     "data": {
      "application/vnd.jupyter.widget-view+json": {
       "model_id": "2454c16f9efc4bd1b27e6491cf5a93a9",
       "version_major": 2,
       "version_minor": 0
      },
      "text/plain": [
       "VBox()"
      ]
     },
     "metadata": {},
     "output_type": "display_data"
    },
    {
     "data": {
      "application/vnd.jupyter.widget-view+json": {
       "model_id": "",
       "version_major": 2,
       "version_minor": 0
      },
      "text/plain": [
       "FloatProgress(value=0.0, bar_style='info', description='Progress:', layout=Layout(height='25px', width='50%'),…"
      ]
     },
     "metadata": {},
     "output_type": "display_data"
    },
    {
     "name": "stdout",
     "output_type": "stream",
     "text": [
      "root\n",
      " |-- index: integer (nullable = true)\n",
      " |-- reviews_userProvince: string (nullable = false)\n",
      " |-- reviews_userCity: string (nullable = false)\n",
      " |-- reviews_username: string (nullable = true)\n",
      " |-- hotel_id: string (nullable = true)\n",
      " |-- reviews_rating: string (nullable = true)\n",
      " |-- uid: integer (nullable = true)\n",
      "\n",
      "9998\n",
      "9998\n",
      "+-----+--------------------+----------------+----------------+--------------------+--------------+----+\n",
      "|index|reviews_userProvince|reviews_userCity|reviews_username|            hotel_id|reviews_rating| uid|\n",
      "+-----+--------------------+----------------+----------------+--------------------+--------------+----+\n",
      "|    1|           Not given|       Not given|            Lori|AV-TGsFqRxPSIh2RmVF-|           4.6|3184|\n",
      "|    2|           Not given|       Not given|         Rohanna|AV-TGsFqRxPSIh2RmVF-|           4.8|4395|\n",
      "|    3|           Not given|       Not given|           Maria|AV-TGsFqRxPSIh2RmVF-|          4.15|3351|\n",
      "|    4|           Not given|       Not given|            Rami|AV-TGsFqRxPSIh2RmVF-|           2.5|4176|\n",
      "|    5|           Not given|       Not given|         Matthew|AV-TGsFqRxPSIh2RmVF-|          3.95|3468|\n",
      "|    6|           Not given|       Not given|             mxk|AV-TGsFqRxPSIh2RmVF-|           4.6|6610|\n",
      "|    7|           Not given|       Not given|     Marcia Uy 1|AV-TGsFqRxPSIh2RmVF-|             5|3333|\n",
      "|    8|           Not given|       Not given|          Kerran|AV-TGsFqRxPSIh2RmVF-|             5|2874|\n",
      "|    9|           Not given|       Not given|           Derek|AV-TGsFqRxPSIh2RmVF-|             5|1475|\n",
      "|   10|           Not given|       Not given|            Hans|AV-TGsFqRxPSIh2RmVF-|           2.9|2029|\n",
      "|   11|           Not given|       Not given|          Adrian|AV-TGsFqRxPSIh2RmVF-|           2.9| 293|\n",
      "|   12|           Not given|       Not given|         Gabriel|AV-TGsFqRxPSIh2RmVF-|             4|1848|\n",
      "|   13|           Not given|       Not given|            Lisa|AV-TGsFqRxPSIh2RmVF-|             5|3144|\n",
      "|   14|           Not given|       Not given|           Larry|AV-TGsFqRxPSIh2RmVF-|             5|3023|\n",
      "|   15|           Not given|       Not given|          Justin|AV-TGsFqRxPSIh2RmVF-|             5|2675|\n",
      "|   16|           Not given|       Not given|          Marius|AV-TGsFqRxPSIh2RmVF-|          3.35|3379|\n",
      "|   17|           Not given|       Not given|           AydaY|AV-TGsFqRxPSIh2RmVF-|             5| 610|\n",
      "|   18|           Not given|       Not given|           Blake|AV-TGsFqRxPSIh2RmVF-|           4.6| 767|\n",
      "|   19|           Not given|       Not given|         Kirsten|AV-TGsFqRxPSIh2RmVF-|             5|2922|\n",
      "|   20|           Not given|       Not given|            Paul|AV-TGsFqRxPSIh2RmVF-|          3.75|3993|\n",
      "+-----+--------------------+----------------+----------------+--------------------+--------------+----+\n",
      "only showing top 20 rows"
     ]
    }
   ],
   "source": [
    "review_df = review_df.select('index','reviews_userProvince','reviews_userCity','reviews_username', 'hotel_id', 'reviews_rating')\n",
    "\n",
    "\n",
    "# userid match\n",
    "a = review_df.alias(\"a\")\n",
    "\n",
    "b = user_new_df.alias(\"b\")\n",
    "    \n",
    "review_userId_df = a.join(b, (col(\"a.reviews_username\") == col(\"b.reviews_username\")) & (col(\"a.reviews_userCity\") == col(\"b.reviews_userCity\")) & (col(\"a.reviews_userProvince\") == col(\"b.reviews_userProvince\")), 'inner') \\\n",
    "                     .select([col('a.'+xx) for xx in a.columns] + [col('b.uid')]).persist()\n",
    "\n",
    "# categories match\n",
    "review_userId_df.printSchema()\n",
    "print(review_userId_df.distinct().count())\n",
    "print(review_userId_df.count())\n",
    "review_userId_df.show()"
   ]
  },
  {
   "cell_type": "code",
   "execution_count": 27,
   "metadata": {},
   "outputs": [
    {
     "data": {
      "application/vnd.jupyter.widget-view+json": {
       "model_id": "e4fd8ad4273848a18d949b254bbed439",
       "version_major": 2,
       "version_minor": 0
      },
      "text/plain": [
       "VBox()"
      ]
     },
     "metadata": {},
     "output_type": "display_data"
    },
    {
     "data": {
      "application/vnd.jupyter.widget-view+json": {
       "model_id": "",
       "version_major": 2,
       "version_minor": 0
      },
      "text/plain": [
       "FloatProgress(value=0.0, bar_style='info', description='Progress:', layout=Layout(height='25px', width='50%'),…"
      ]
     },
     "metadata": {},
     "output_type": "display_data"
    },
    {
     "name": "stdout",
     "output_type": "stream",
     "text": [
      "+-----+--------------------+----------------+----------------+--------------------+--------------+----+\n",
      "|index|reviews_userProvince|reviews_userCity|reviews_username|            hotel_id|reviews_rating| uid|\n",
      "+-----+--------------------+----------------+----------------+--------------------+--------------+----+\n",
      "|    1|           Not given|       Not given|            Lori|AV-TGsFqRxPSIh2RmVF-|           4.6|3184|\n",
      "|  129|           Not given|       Not given|            Lori|AV-TGwK3IxWefVJwr5IJ|             5|3184|\n",
      "|  499|           Not given|       Not given|            Lori|AV1ha6JpIxWefVJwgDSa|             5|3184|\n",
      "+-----+--------------------+----------------+----------------+--------------------+--------------+----+"
     ]
    }
   ],
   "source": [
    "df_filtered_review=review_userId_df.filter(review_userId_df.reviews_username=='Lori')\n",
    "df_filtered_review.show()"
   ]
  },
  {
   "cell_type": "code",
   "execution_count": 28,
   "metadata": {},
   "outputs": [
    {
     "data": {
      "application/vnd.jupyter.widget-view+json": {
       "model_id": "b45c1e77d95a4973846fd34292398176",
       "version_major": 2,
       "version_minor": 0
      },
      "text/plain": [
       "VBox()"
      ]
     },
     "metadata": {},
     "output_type": "display_data"
    },
    {
     "data": {
      "application/vnd.jupyter.widget-view+json": {
       "model_id": "",
       "version_major": 2,
       "version_minor": 0
      },
      "text/plain": [
       "FloatProgress(value=0.0, bar_style='info', description='Progress:', layout=Layout(height='25px', width='50%'),…"
      ]
     },
     "metadata": {},
     "output_type": "display_data"
    },
    {
     "name": "stdout",
     "output_type": "stream",
     "text": [
      "root\n",
      " |-- index: integer (nullable = true)\n",
      " |-- reviews_userProvince: string (nullable = false)\n",
      " |-- reviews_userCity: string (nullable = false)\n",
      " |-- reviews_username: string (nullable = true)\n",
      " |-- hotel_id: string (nullable = true)\n",
      " |-- reviews_rating: string (nullable = true)\n",
      " |-- uid: integer (nullable = true)\n",
      " |-- Id: integer (nullable = true)\n",
      "\n",
      "9998"
     ]
    }
   ],
   "source": [
    "a = review_userId_df.alias(\"a\")\n",
    "b = hotel_newid_df.alias(\"b\")\n",
    "\n",
    "review_userId_hotelId_df = a.join(b, col(\"a.hotel_id\") == col(\"b.hotel_id\"), 'inner') \\\n",
    "                         .select([col('a.'+xx) for xx in a.columns]+ [col('b.Id')]).persist() \n",
    "\n",
    "review_userId_hotelId_df.printSchema()\n",
    "review_userId_hotelId_df.count()"
   ]
  },
  {
   "cell_type": "code",
   "execution_count": 29,
   "metadata": {},
   "outputs": [
    {
     "data": {
      "application/vnd.jupyter.widget-view+json": {
       "model_id": "a0a5431f625b49148d5daf7c4dda6883",
       "version_major": 2,
       "version_minor": 0
      },
      "text/plain": [
       "VBox()"
      ]
     },
     "metadata": {},
     "output_type": "display_data"
    },
    {
     "data": {
      "application/vnd.jupyter.widget-view+json": {
       "model_id": "",
       "version_major": 2,
       "version_minor": 0
      },
      "text/plain": [
       "FloatProgress(value=0.0, bar_style='info', description='Progress:', layout=Layout(height='25px', width='50%'),…"
      ]
     },
     "metadata": {},
     "output_type": "display_data"
    },
    {
     "name": "stdout",
     "output_type": "stream",
     "text": [
      "+-----+--------------------+----------------+----------------+--------------------+--------------+----+----+\n",
      "|index|reviews_userProvince|reviews_userCity|reviews_username|            hotel_id|reviews_rating| uid|  Id|\n",
      "+-----+--------------------+----------------+----------------+--------------------+--------------+----+----+\n",
      "|    1|           Not given|       Not given|            Lori|AV-TGsFqRxPSIh2RmVF-|           4.6|3184| 800|\n",
      "|  129|           Not given|       Not given|            Lori|AV-TGwK3IxWefVJwr5IJ|             5|3184|1443|\n",
      "|  499|           Not given|       Not given|            Lori|AV1ha6JpIxWefVJwgDSa|             5|3184|1046|\n",
      "+-----+--------------------+----------------+----------------+--------------------+--------------+----+----+"
     ]
    }
   ],
   "source": [
    "df_filtered_review=review_userId_hotelId_df.filter(review_userId_hotelId_df.reviews_username=='Lori')\n",
    "df_filtered_review.show()"
   ]
  },
  {
   "cell_type": "code",
   "execution_count": 30,
   "metadata": {},
   "outputs": [
    {
     "data": {
      "application/vnd.jupyter.widget-view+json": {
       "model_id": "b85653c85017487397b9af7de50052e6",
       "version_major": 2,
       "version_minor": 0
      },
      "text/plain": [
       "VBox()"
      ]
     },
     "metadata": {},
     "output_type": "display_data"
    },
    {
     "data": {
      "application/vnd.jupyter.widget-view+json": {
       "model_id": "",
       "version_major": 2,
       "version_minor": 0
      },
      "text/plain": [
       "FloatProgress(value=0.0, bar_style='info', description='Progress:', layout=Layout(height='25px', width='50%'),…"
      ]
     },
     "metadata": {},
     "output_type": "display_data"
    },
    {
     "name": "stdout",
     "output_type": "stream",
     "text": [
      "+-----+--------------------+----------------+----------------+--------+--------------+---+---+\n",
      "|index|reviews_userProvince|reviews_userCity|reviews_username|hotel_id|reviews_rating|uid| Id|\n",
      "+-----+--------------------+----------------+----------------+--------+--------------+---+---+\n",
      "|    0|                   0|               0|               0|       0|             0|  0|  0|\n",
      "+-----+--------------------+----------------+----------------+--------+--------------+---+---+"
     ]
    }
   ],
   "source": [
    "from pyspark.sql.functions import isnan, when, count, col\n",
    "\n",
    "review_userId_hotelId_df.select([count(when(isnan(c), c)).alias(c) for c in review_userId_hotelId_df.columns]).show()"
   ]
  },
  {
   "cell_type": "code",
   "execution_count": 31,
   "metadata": {},
   "outputs": [
    {
     "data": {
      "application/vnd.jupyter.widget-view+json": {
       "model_id": "cd8a42a12e7048199e543d5d45285c55",
       "version_major": 2,
       "version_minor": 0
      },
      "text/plain": [
       "VBox()"
      ]
     },
     "metadata": {},
     "output_type": "display_data"
    },
    {
     "data": {
      "application/vnd.jupyter.widget-view+json": {
       "model_id": "",
       "version_major": 2,
       "version_minor": 0
      },
      "text/plain": [
       "FloatProgress(value=0.0, bar_style='info', description='Progress:', layout=Layout(height='25px', width='50%'),…"
      ]
     },
     "metadata": {},
     "output_type": "display_data"
    },
    {
     "name": "stdout",
     "output_type": "stream",
     "text": [
      "+-----+--------------------+----------------+----------------+--------------------+--------------+----+---+\n",
      "|index|reviews_userProvince|reviews_userCity|reviews_username|            hotel_id|reviews_rating| uid| Id|\n",
      "+-----+--------------------+----------------+----------------+--------------------+--------------+----+---+\n",
      "|    1|           Not given|       Not given|            Lori|AV-TGsFqRxPSIh2RmVF-|           4.6|3184|800|\n",
      "|    2|           Not given|       Not given|         Rohanna|AV-TGsFqRxPSIh2RmVF-|           4.8|4395|800|\n",
      "|    3|           Not given|       Not given|           Maria|AV-TGsFqRxPSIh2RmVF-|          4.15|3351|800|\n",
      "|    4|           Not given|       Not given|            Rami|AV-TGsFqRxPSIh2RmVF-|           2.5|4176|800|\n",
      "|    5|           Not given|       Not given|         Matthew|AV-TGsFqRxPSIh2RmVF-|          3.95|3468|800|\n",
      "|    6|           Not given|       Not given|             mxk|AV-TGsFqRxPSIh2RmVF-|           4.6|6610|800|\n",
      "|    7|           Not given|       Not given|     Marcia Uy 1|AV-TGsFqRxPSIh2RmVF-|             5|3333|800|\n",
      "|    8|           Not given|       Not given|          Kerran|AV-TGsFqRxPSIh2RmVF-|             5|2874|800|\n",
      "|    9|           Not given|       Not given|           Derek|AV-TGsFqRxPSIh2RmVF-|             5|1475|800|\n",
      "|   10|           Not given|       Not given|            Hans|AV-TGsFqRxPSIh2RmVF-|           2.9|2029|800|\n",
      "|   11|           Not given|       Not given|          Adrian|AV-TGsFqRxPSIh2RmVF-|           2.9| 293|800|\n",
      "|   12|           Not given|       Not given|         Gabriel|AV-TGsFqRxPSIh2RmVF-|             4|1848|800|\n",
      "|   13|           Not given|       Not given|            Lisa|AV-TGsFqRxPSIh2RmVF-|             5|3144|800|\n",
      "|   14|           Not given|       Not given|           Larry|AV-TGsFqRxPSIh2RmVF-|             5|3023|800|\n",
      "|   15|           Not given|       Not given|          Justin|AV-TGsFqRxPSIh2RmVF-|             5|2675|800|\n",
      "|   16|           Not given|       Not given|          Marius|AV-TGsFqRxPSIh2RmVF-|          3.35|3379|800|\n",
      "|   17|           Not given|       Not given|           AydaY|AV-TGsFqRxPSIh2RmVF-|             5| 610|800|\n",
      "|   18|           Not given|       Not given|           Blake|AV-TGsFqRxPSIh2RmVF-|           4.6| 767|800|\n",
      "|   19|           Not given|       Not given|         Kirsten|AV-TGsFqRxPSIh2RmVF-|             5|2922|800|\n",
      "|   20|           Not given|       Not given|            Paul|AV-TGsFqRxPSIh2RmVF-|          3.75|3993|800|\n",
      "+-----+--------------------+----------------+----------------+--------------------+--------------+----+---+\n",
      "only showing top 20 rows"
     ]
    }
   ],
   "source": [
    "#review_userId_businessId_df.distinct().count()\n",
    "review_userId_hotelId_df.show()"
   ]
  },
  {
   "cell_type": "code",
   "execution_count": 33,
   "metadata": {},
   "outputs": [
    {
     "data": {
      "application/vnd.jupyter.widget-view+json": {
       "model_id": "347edc0efb824d22be1d25aa51ff71e4",
       "version_major": 2,
       "version_minor": 0
      },
      "text/plain": [
       "VBox()"
      ]
     },
     "metadata": {},
     "output_type": "display_data"
    },
    {
     "data": {
      "application/vnd.jupyter.widget-view+json": {
       "model_id": "",
       "version_major": 2,
       "version_minor": 0
      },
      "text/plain": [
       "FloatProgress(value=0.0, bar_style='info', description='Progress:', layout=Layout(height='25px', width='50%'),…"
      ]
     },
     "metadata": {},
     "output_type": "display_data"
    },
    {
     "name": "stdout",
     "output_type": "stream",
     "text": [
      "root\n",
      " |-- uid: integer (nullable = true)\n",
      " |-- Id: integer (nullable = true)\n",
      " |-- rating: float (nullable = true)"
     ]
    }
   ],
   "source": [
    "rating_df = review_userId_hotelId_df.select('uid', 'Id', review_userId_hotelId_df.reviews_rating.cast('float').alias('rating')).persist()\n",
    "\n",
    "rating_df.printSchema()"
   ]
  },
  {
   "cell_type": "code",
   "execution_count": 34,
   "metadata": {},
   "outputs": [
    {
     "data": {
      "application/vnd.jupyter.widget-view+json": {
       "model_id": "93dbe62d378b4d52891b038f04e8ed61",
       "version_major": 2,
       "version_minor": 0
      },
      "text/plain": [
       "VBox()"
      ]
     },
     "metadata": {},
     "output_type": "display_data"
    },
    {
     "data": {
      "application/vnd.jupyter.widget-view+json": {
       "model_id": "",
       "version_major": 2,
       "version_minor": 0
      },
      "text/plain": [
       "FloatProgress(value=0.0, bar_style='info', description='Progress:', layout=Layout(height='25px', width='50%'),…"
      ]
     },
     "metadata": {},
     "output_type": "display_data"
    },
    {
     "name": "stdout",
     "output_type": "stream",
     "text": [
      "+---+---+------+\n",
      "|uid| Id|rating|\n",
      "+---+---+------+\n",
      "|  0|  0|     0|\n",
      "+---+---+------+"
     ]
    }
   ],
   "source": [
    "\n",
    "rating_df.limit(20).toPandas()\n",
    "from pyspark.sql.functions import isnan, when, count, col\n",
    "\n",
    "rating_df.select([count(when(isnan(c), c)).alias(c) for c in rating_df.columns]).show()"
   ]
  },
  {
   "cell_type": "code",
   "execution_count": 35,
   "metadata": {},
   "outputs": [
    {
     "data": {
      "application/vnd.jupyter.widget-view+json": {
       "model_id": "01da2a854feb46568cfc5b61d76a1177",
       "version_major": 2,
       "version_minor": 0
      },
      "text/plain": [
       "VBox()"
      ]
     },
     "metadata": {},
     "output_type": "display_data"
    },
    {
     "data": {
      "application/vnd.jupyter.widget-view+json": {
       "model_id": "",
       "version_major": 2,
       "version_minor": 0
      },
      "text/plain": [
       "FloatProgress(value=0.0, bar_style='info', description='Progress:', layout=Layout(height='25px', width='50%'),…"
      ]
     },
     "metadata": {},
     "output_type": "display_data"
    },
    {
     "name": "stdout",
     "output_type": "stream",
     "text": [
      "7234"
     ]
    }
   ],
   "source": [
    "(train, test) = rating_df.randomSplit([0.8, 0.2], seed=123)\n",
    "rating_df.select(\"uid\").distinct().count()"
   ]
  },
  {
   "cell_type": "markdown",
   "metadata": {},
   "source": [
    "## ALS model"
   ]
  },
  {
   "cell_type": "code",
   "execution_count": 36,
   "metadata": {},
   "outputs": [
    {
     "data": {
      "application/vnd.jupyter.widget-view+json": {
       "model_id": "b8a1f000f58a4680a34ca71f07139273",
       "version_major": 2,
       "version_minor": 0
      },
      "text/plain": [
       "VBox()"
      ]
     },
     "metadata": {},
     "output_type": "display_data"
    },
    {
     "data": {
      "application/vnd.jupyter.widget-view+json": {
       "model_id": "",
       "version_major": 2,
       "version_minor": 0
      },
      "text/plain": [
       "FloatProgress(value=0.0, bar_style='info', description='Progress:', layout=Layout(height='25px', width='50%'),…"
      ]
     },
     "metadata": {},
     "output_type": "display_data"
    },
    {
     "name": "stderr",
     "output_type": "stream",
     "text": [
      "Exception in thread cell_monitor-36:\n",
      "Traceback (most recent call last):\n",
      "  File \"/opt/conda/lib/python3.7/threading.py\", line 917, in _bootstrap_inner\n",
      "    self.run()\n",
      "  File \"/opt/conda/lib/python3.7/threading.py\", line 865, in run\n",
      "    self._target(*self._args, **self._kwargs)\n",
      "  File \"/opt/conda/lib/python3.7/site-packages/awseditorssparkmonitoringwidget-1.0-py3.7.egg/awseditorssparkmonitoringwidget/cellmonitor.py\", line 178, in cell_monitor\n",
      "    job_binned_stages[job_id][stage_id] = all_stages[stage_id]\n",
      "KeyError: 1148\n",
      "\n"
     ]
    },
    {
     "name": "stdout",
     "output_type": "stream",
     "text": [
      "Root-mean-square error = 1.6881326329174966\n",
      "20"
     ]
    }
   ],
   "source": [
    "import warnings\n",
    "warnings.filterwarnings('ignore')\n",
    "\n",
    "als = ALS(userCol=\"uid\", itemCol=\"Id\", ratingCol=\"rating\", coldStartStrategy=\"drop\")\n",
    "\n",
    "param_grid = ParamGridBuilder().addGrid(\n",
    "    als.rank,\n",
    "    [10, 15,20],\n",
    ").addGrid(\n",
    "    als.maxIter,\n",
    "    [10, 15,20],\n",
    ").build()\n",
    "\n",
    "evaluator = RegressionEvaluator(\n",
    "    metricName=\"rmse\",\n",
    "    labelCol=\"rating\",\n",
    ")\n",
    "\n",
    "cv = CrossValidator(estimator=als, estimatorParamMaps=param_grid, evaluator=evaluator, numFolds=5, seed=123)\n",
    "cv_als_model = cv.fit(train)\n",
    "\n",
    "# Evaluate the model by computing the RMSE on the test data\n",
    "\n",
    "als_predictions = cv_als_model.bestModel.transform(test)\n",
    "evaluator = RegressionEvaluator(metricName=\"rmse\", labelCol=\"rating\", predictionCol=\"prediction\")\n",
    "rmse = evaluator.evaluate(als_predictions)\n",
    "print(\"Root-mean-square error = \" + str(rmse))\n",
    "\n",
    "best_model = cv_als_model.bestModel\n",
    "\n",
    "#Optimal rank is 20\n",
    "best_rank = best_model.rank\n",
    "print(best_rank)\n",
    "# Optimal maxIter is 20\n",
    "best_getMaxIter = (best_model._java_obj.parent().getMaxIter()) # Get maxIter\n",
    "\n",
    "\n",
    "# Root-mean-square error is  1.6881326329174966"
   ]
  },
  {
   "cell_type": "code",
   "execution_count": 37,
   "metadata": {},
   "outputs": [
    {
     "data": {
      "application/vnd.jupyter.widget-view+json": {
       "model_id": "89556a22306f47de89d7142fadc060ad",
       "version_major": 2,
       "version_minor": 0
      },
      "text/plain": [
       "VBox()"
      ]
     },
     "metadata": {},
     "output_type": "display_data"
    },
    {
     "data": {
      "application/vnd.jupyter.widget-view+json": {
       "model_id": "",
       "version_major": 2,
       "version_minor": 0
      },
      "text/plain": [
       "FloatProgress(value=0.0, bar_style='info', description='Progress:', layout=Layout(height='25px', width='50%'),…"
      ]
     },
     "metadata": {},
     "output_type": "display_data"
    },
    {
     "name": "stdout",
     "output_type": "stream",
     "text": [
      "Root-mean-square error = 1.6216368297163042"
     ]
    }
   ],
   "source": [
    "alsb = ALS(rank=best_rank, maxIter=best_getMaxIter, regParam=0.3, userCol=\"uid\", itemCol=\"Id\", ratingCol=\"rating\", \\\n",
    "               coldStartStrategy=\"drop\", seed=123)\n",
    "alsb_model = alsb.fit(train)\n",
    "\n",
    "alsb_predictions = alsb_model.transform(test)\n",
    "evaluator = RegressionEvaluator(metricName=\"rmse\", labelCol=\"rating\", predictionCol=\"prediction\")\n",
    "rmse = evaluator.evaluate(alsb_predictions)\n",
    "print(\"Root-mean-square error = \" + str(rmse))\n",
    "\n",
    "# ALS model\n",
    "\n",
    "\n",
    "# Root-mean-square error is 1.6216368297163042"
   ]
  },
  {
   "cell_type": "code",
   "execution_count": 39,
   "metadata": {},
   "outputs": [
    {
     "data": {
      "application/vnd.jupyter.widget-view+json": {
       "model_id": "74976255ebe44ce889bf025bb4b8c423",
       "version_major": 2,
       "version_minor": 0
      },
      "text/plain": [
       "VBox()"
      ]
     },
     "metadata": {},
     "output_type": "display_data"
    },
    {
     "data": {
      "application/vnd.jupyter.widget-view+json": {
       "model_id": "",
       "version_major": 2,
       "version_minor": 0
      },
      "text/plain": [
       "FloatProgress(value=0.0, bar_style='info', description='Progress:', layout=Layout(height='25px', width='50%'),…"
      ]
     },
     "metadata": {},
     "output_type": "display_data"
    },
    {
     "name": "stdout",
     "output_type": "stream",
     "text": [
      "\"userRecoms.orderBy('uid').show(truncate=False)\\ndf_filtered_review=user_new_df.filter(user_new_df.uid==6)\\ndf_filtered_review.show()\\nuserRecoms.count()\""
     ]
    }
   ],
   "source": [
    "userRecoms = alsb_model.recommendForAllUsers(10)\n"
   ]
  },
  {
   "cell_type": "code",
   "execution_count": 40,
   "metadata": {},
   "outputs": [
    {
     "data": {
      "application/vnd.jupyter.widget-view+json": {
       "model_id": "cc787ea40be149a8b1133ab955db81d6",
       "version_major": 2,
       "version_minor": 0
      },
      "text/plain": [
       "VBox()"
      ]
     },
     "metadata": {},
     "output_type": "display_data"
    },
    {
     "data": {
      "application/vnd.jupyter.widget-view+json": {
       "model_id": "",
       "version_major": 2,
       "version_minor": 0
      },
      "text/plain": [
       "FloatProgress(value=0.0, bar_style='info', description='Progress:', layout=Layout(height='25px', width='50%'),…"
      ]
     },
     "metadata": {},
     "output_type": "display_data"
    },
    {
     "name": "stderr",
     "output_type": "stream",
     "text": [
      "Exception in thread cell_monitor-37:\n",
      "Traceback (most recent call last):\n",
      "  File \"/opt/conda/lib/python3.7/threading.py\", line 917, in _bootstrap_inner\n",
      "    self.run()\n",
      "  File \"/opt/conda/lib/python3.7/threading.py\", line 865, in run\n",
      "    self._target(*self._args, **self._kwargs)\n",
      "  File \"/opt/conda/lib/python3.7/site-packages/awseditorssparkmonitoringwidget-1.0-py3.7.egg/awseditorssparkmonitoringwidget/cellmonitor.py\", line 178, in cell_monitor\n",
      "    job_binned_stages[job_id][stage_id] = all_stages[stage_id]\n",
      "KeyError: 5859\n",
      "\n"
     ]
    },
    {
     "name": "stdout",
     "output_type": "stream",
     "text": [
      "5806"
     ]
    }
   ],
   "source": [
    "a = userRecoms.alias(\"a\")\n",
    "b = user_new_df.alias(\"b\")\n",
    "    \n",
    "all_userRecoms = a.join(b, col(\"a.uid\") == col(\"b.uid\"), 'inner') \\\n",
    "             .select([col('a.'+xx) for xx in a.columns] + [col('b.reviews_username')]).persist()\n",
    "\n",
    "all_userRecoms.cache()   \n",
    "all_userRecoms.distinct().count()"
   ]
  },
  {
   "cell_type": "code",
   "execution_count": 41,
   "metadata": {},
   "outputs": [
    {
     "data": {
      "application/vnd.jupyter.widget-view+json": {
       "model_id": "481849a8783e47729159eb2d62dab561",
       "version_major": 2,
       "version_minor": 0
      },
      "text/plain": [
       "VBox()"
      ]
     },
     "metadata": {},
     "output_type": "display_data"
    },
    {
     "data": {
      "application/vnd.jupyter.widget-view+json": {
       "model_id": "",
       "version_major": 2,
       "version_minor": 0
      },
      "text/plain": [
       "FloatProgress(value=0.0, bar_style='info', description='Progress:', layout=Layout(height='25px', width='50%'),…"
      ]
     },
     "metadata": {},
     "output_type": "display_data"
    },
    {
     "name": "stdout",
     "output_type": "stream",
     "text": [
      "7234"
     ]
    }
   ],
   "source": [
    "user_new_df.count()"
   ]
  },
  {
   "cell_type": "code",
   "execution_count": 42,
   "metadata": {},
   "outputs": [
    {
     "data": {
      "application/vnd.jupyter.widget-view+json": {
       "model_id": "29bbfbff942643faa2f502e761fa4033",
       "version_major": 2,
       "version_minor": 0
      },
      "text/plain": [
       "VBox()"
      ]
     },
     "metadata": {},
     "output_type": "display_data"
    },
    {
     "data": {
      "application/vnd.jupyter.widget-view+json": {
       "model_id": "",
       "version_major": 2,
       "version_minor": 0
      },
      "text/plain": [
       "FloatProgress(value=0.0, bar_style='info', description='Progress:', layout=Layout(height='25px', width='50%'),…"
      ]
     },
     "metadata": {},
     "output_type": "display_data"
    },
    {
     "name": "stdout",
     "output_type": "stream",
     "text": [
      "root\n",
      " |-- Id: long (nullable = true)\n",
      " |-- rating: double (nullable = true)"
     ]
    },
    {
     "name": "stderr",
     "output_type": "stream",
     "text": [
      "Exception in thread cell_monitor-42:\n",
      "Traceback (most recent call last):\n",
      "  File \"/opt/conda/lib/python3.7/threading.py\", line 917, in _bootstrap_inner\n",
      "    self.run()\n",
      "  File \"/opt/conda/lib/python3.7/threading.py\", line 865, in run\n",
      "    self._target(*self._args, **self._kwargs)\n",
      "  File \"/opt/conda/lib/python3.7/site-packages/awseditorssparkmonitoringwidget-1.0-py3.7.egg/awseditorssparkmonitoringwidget/cellmonitor.py\", line 178, in cell_monitor\n",
      "    job_binned_stages[job_id][stage_id] = all_stages[stage_id]\n",
      "KeyError: 6062\n",
      "\n"
     ]
    }
   ],
   "source": [
    "import warnings\n",
    "warnings.filterwarnings('ignore')\n",
    "u_id = 6\n",
    "\n",
    "userFlatRec =  sqlContext.createDataFrame(all_userRecoms.filter(col('uid') == u_id).rdd.flatMap(lambda p: p[1])).persist()\n",
    "userFlatRec.printSchema()"
   ]
  },
  {
   "cell_type": "code",
   "execution_count": 43,
   "metadata": {},
   "outputs": [
    {
     "data": {
      "application/vnd.jupyter.widget-view+json": {
       "model_id": "30dfc435c6ff4320ba96e6ccb9db9c15",
       "version_major": 2,
       "version_minor": 0
      },
      "text/plain": [
       "VBox()"
      ]
     },
     "metadata": {},
     "output_type": "display_data"
    },
    {
     "data": {
      "application/vnd.jupyter.widget-view+json": {
       "model_id": "",
       "version_major": 2,
       "version_minor": 0
      },
      "text/plain": [
       "FloatProgress(value=0.0, bar_style='info', description='Progress:', layout=Layout(height='25px', width='50%'),…"
      ]
     },
     "metadata": {},
     "output_type": "display_data"
    },
    {
     "name": "stdout",
     "output_type": "stream",
     "text": [
      "root\n",
      " |-- hotel_id: string (nullable = true)\n",
      " |-- name: string (nullable = true)\n",
      " |-- address: string (nullable = true)\n",
      " |-- categories: string (nullable = true)\n",
      " |-- primaryCategories: string (nullable = true)\n",
      " |-- city: string (nullable = true)\n",
      " |-- country: string (nullable = true)\n",
      " |-- keys: string (nullable = true)\n",
      " |-- latitude: string (nullable = true)\n",
      " |-- longitude: string (nullable = true)\n",
      " |-- postalCode: string (nullable = true)\n",
      " |-- province: string (nullable = true)\n",
      " |-- average_rating: double (nullable = true)\n",
      " |-- Id: integer (nullable = true)\n",
      " |-- rating: double (nullable = true)\n",
      "\n",
      "               hotel_id  ...                                         categories\n",
      "0  AVwdygbvIN2L1WUfzOvF  ...                        Hotels,Resort,Lodging,Hotel\n",
      "1  AVwdEH8rByjofQCxlJBS  ...  Hotels,Boutique Hotels,Tourist Hotels,Corporat...\n",
      "2  AVwct0d4IN2L1WUfoGLp  ...  Hotels and motels,Hotel and motel reservations...\n",
      "3  AVwdtuoFByjofQCxr08w  ...  Hotel,Hotels and motels,Hotel and motel reserv...\n",
      "4  AVwclphkIN2L1WUfmqLw  ...  Hotel,Hotels and motels,Hotels Motels,Travel A...\n",
      "5  AVweQYciByjofQCxwoQF  ...      Hotels,Hotels and motels,Lodging,Motels,Hotel\n",
      "6  AVwel2fpIN2L1WUf6YOc  ...  Hotels,Lodging,Hotel and motel mgmt.,Hotels an...\n",
      "7  AVwcswk2kufWRAb5yEtI  ...  Hotels,Hotels and motels,Hotel and motel reser...\n",
      "8  AVwdFZz6_7pvs4fz2GR2  ...              Hotels and motels,Hotels Motels,Hotel\n",
      "9  AVwdlvhPIN2L1WUfxT4z  ...  Hotels,Lodging,Corporate Lodging,Motels,Hotels...\n",
      "\n",
      "[10 rows x 4 columns]"
     ]
    }
   ],
   "source": [
    "a = hotel_new_df.alias(\"a\")\n",
    "b = userFlatRec.alias(\"b\")\n",
    "\n",
    "user_collab_df = a.join(b, col(\"a.Id\") == col(\"b.Id\"), 'inner') \\\n",
    "                         .select([col('a.'+xx) for xx in a.columns] + [col('b.rating')])\n",
    "user_collab_df.printSchema()\n",
    "    \n",
    "user_collab_df.select('hotel_id', 'name', 'rating', 'categories').toPandas()"
   ]
  },
  {
   "cell_type": "code",
   "execution_count": 44,
   "metadata": {},
   "outputs": [
    {
     "data": {
      "application/vnd.jupyter.widget-view+json": {
       "model_id": "1389be4f7cdd44c2a83fcf1498eeed50",
       "version_major": 2,
       "version_minor": 0
      },
      "text/plain": [
       "VBox()"
      ]
     },
     "metadata": {},
     "output_type": "display_data"
    },
    {
     "data": {
      "application/vnd.jupyter.widget-view+json": {
       "model_id": "",
       "version_major": 2,
       "version_minor": 0
      },
      "text/plain": [
       "FloatProgress(value=0.0, bar_style='info', description='Progress:', layout=Layout(height='25px', width='50%'),…"
      ]
     },
     "metadata": {},
     "output_type": "display_data"
    }
   ],
   "source": [
    "def getCollabRec(u_id):\n",
    "    \n",
    "\n",
    "    userFlatRec =  sqlContext.createDataFrame(all_userRecoms.filter(col('uid') == u_id).rdd.flatMap(lambda p: p[1]))\n",
    "\n",
    "    a = userFlatRec.alias(\"a\")\n",
    "    b = hotel_new_df.alias(\"b\")\n",
    "    \n",
    "    return a.join(b, col(\"a.Id\") == col(\"b.Id\"), 'inner') \\\n",
    "             .select([ col('b.Id'),col('b.hotel_id'), col('a.rating'), col('b.name'),col('b.average_rating'),col('b.categories'),\n",
    "                                                           col('b.latitude'),col('b.longitude')]) \\\n",
    "             .orderBy(\"rating\", ascending = False)"
   ]
  },
  {
   "cell_type": "code",
   "execution_count": 45,
   "metadata": {},
   "outputs": [
    {
     "data": {
      "application/vnd.jupyter.widget-view+json": {
       "model_id": "5432253b271a46cd863137e5a5329058",
       "version_major": 2,
       "version_minor": 0
      },
      "text/plain": [
       "VBox()"
      ]
     },
     "metadata": {},
     "output_type": "display_data"
    },
    {
     "data": {
      "application/vnd.jupyter.widget-view+json": {
       "model_id": "",
       "version_major": 2,
       "version_minor": 0
      },
      "text/plain": [
       "FloatProgress(value=0.0, bar_style='info', description='Progress:', layout=Layout(height='25px', width='50%'),…"
      ]
     },
     "metadata": {},
     "output_type": "display_data"
    }
   ],
   "source": [
    "import warnings\n",
    "warnings.filterwarnings('ignore')\n",
    "\n",
    "#print(\"---------------------------------\\nEnter the user id: \\n\")\n",
    "u_id= 6357\n",
    "#u_id= input()\n",
    "\n"
   ]
  },
  {
   "cell_type": "code",
   "execution_count": 48,
   "metadata": {},
   "outputs": [
    {
     "data": {
      "application/vnd.jupyter.widget-view+json": {
       "model_id": "3a0bdadee8cb4b1a889e682fe0b92de0",
       "version_major": 2,
       "version_minor": 0
      },
      "text/plain": [
       "VBox()"
      ]
     },
     "metadata": {},
     "output_type": "display_data"
    },
    {
     "data": {
      "application/vnd.jupyter.widget-view+json": {
       "model_id": "",
       "version_major": 2,
       "version_minor": 0
      },
      "text/plain": [
       "FloatProgress(value=0.0, bar_style='info', description='Progress:', layout=Layout(height='25px', width='50%'),…"
      ]
     },
     "metadata": {},
     "output_type": "display_data"
    },
    {
     "name": "stdout",
     "output_type": "stream",
     "text": [
      "     Id              hotel_id  ...   latitude   longitude\n",
      "0    27  AVwckL-d_7pvs4fzwg58  ...  38.255101  -122.33346\n",
      "1   430  AVweeQx7_7pvs4fzDTn7  ...   32.49094   -92.05335\n",
      "2   350  AVweNSZkIN2L1WUf27Ye  ...    41.4512    -75.6368\n",
      "3   115  AVwcrY5MkufWRAb5x1nm  ...   41.07905   -75.77149\n",
      "4  1418  AWE2I5Nv3-Khe5l_fxSI  ...   31.88892  -102.33335\n",
      "5  1268  AVweFB7p_7pvs4fz_18I  ...   34.17064   -97.16348\n",
      "6   303  AVwd1Zo5ByjofQCxs7DO  ...  42.093964   -88.33668\n",
      "7  1655  AVwclphkIN2L1WUfmqLw  ...    34.4445   -119.2532\n",
      "8   961  AVwdYrkeIN2L1WUfvQ5Y  ...   32.67507    -97.0321\n",
      "9  1758  AVwc5DdcIN2L1WUfqBcg  ...   32.52805   -93.69846\n",
      "\n",
      "[10 rows x 8 columns]"
     ]
    }
   ],
   "source": [
    "getCollabRec(u_id).toPandas()"
   ]
  },
  {
   "cell_type": "code",
   "execution_count": 53,
   "metadata": {},
   "outputs": [
    {
     "data": {
      "application/vnd.jupyter.widget-view+json": {
       "model_id": "37b988936c8740e6bc9c65406560fbec",
       "version_major": 2,
       "version_minor": 0
      },
      "text/plain": [
       "VBox()"
      ]
     },
     "metadata": {},
     "output_type": "display_data"
    },
    {
     "data": {
      "application/vnd.jupyter.widget-view+json": {
       "model_id": "",
       "version_major": 2,
       "version_minor": 0
      },
      "text/plain": [
       "FloatProgress(value=0.0, bar_style='info', description='Progress:', layout=Layout(height='25px', width='50%'),…"
      ]
     },
     "metadata": {},
     "output_type": "display_data"
    },
    {
     "name": "stderr",
     "output_type": "stream",
     "text": [
      "Exception in thread cell_monitor-53:\n",
      "Traceback (most recent call last):\n",
      "  File \"/opt/conda/lib/python3.7/threading.py\", line 917, in _bootstrap_inner\n",
      "    self.run()\n",
      "  File \"/opt/conda/lib/python3.7/threading.py\", line 865, in run\n",
      "    self._target(*self._args, **self._kwargs)\n",
      "  File \"/opt/conda/lib/python3.7/site-packages/awseditorssparkmonitoringwidget-1.0-py3.7.egg/awseditorssparkmonitoringwidget/cellmonitor.py\", line 178, in cell_monitor\n",
      "    job_binned_stages[job_id][stage_id] = all_stages[stage_id]\n",
      "KeyError: 7282\n",
      "\n"
     ]
    }
   ],
   "source": [
    "result_df= getCollabRec(u_id).toPandas()\n",
    "from pyspark.sql import SQLContext\n",
    "sqlContext = SQLContext(spark)\n",
    "\n",
    "sdf = sqlContext.createDataFrame(result_df)"
   ]
  },
  {
   "cell_type": "code",
   "execution_count": 55,
   "metadata": {},
   "outputs": [
    {
     "data": {
      "application/vnd.jupyter.widget-view+json": {
       "model_id": "d557876bfde146aabba5f0c6545a11eb",
       "version_major": 2,
       "version_minor": 0
      },
      "text/plain": [
       "VBox()"
      ]
     },
     "metadata": {},
     "output_type": "display_data"
    },
    {
     "data": {
      "application/vnd.jupyter.widget-view+json": {
       "model_id": "",
       "version_major": 2,
       "version_minor": 0
      },
      "text/plain": [
       "FloatProgress(value=0.0, bar_style='info', description='Progress:', layout=Layout(height='25px', width='50%'),…"
      ]
     },
     "metadata": {},
     "output_type": "display_data"
    },
    {
     "name": "stdout",
     "output_type": "stream",
     "text": [
      "+----+--------------------+------------------+--------------------+-----------------+--------------------+---------+----------+\n",
      "|  Id|            hotel_id|            rating|                name|   average_rating|          categories| latitude| longitude|\n",
      "+----+--------------------+------------------+--------------------+-----------------+--------------------+---------+----------+\n",
      "|  27|AVwckL-d_7pvs4fzwg58|  4.70231294631958|    The Carneros Inn|              5.0|        Hotel,Hotels|38.255101|-122.33346|\n",
      "| 430|AVweeQx7_7pvs4fzDTn7|2.6843972206115723|Best Western Airp...|              4.0|Hotels,Lodging,Ho...| 32.49094| -92.05335|\n",
      "| 350|AVweNSZkIN2L1WUf27Ye|2.6791014671325684|Microtel Inn & Su...|4.916666666666667|Hotels and motels...|  41.4512|  -75.6368|\n",
      "| 115|AVwcrY5MkufWRAb5x1nm|2.6437511444091797|Econo Lodge Inn &...|              3.5|Hotel,Hotels,Lodg...| 41.07905| -75.77149|\n",
      "|1418|AWE2I5Nv3-Khe5l_fxSI| 2.562448263168335|  Hampton Inn Odessa|              5.0|Hotel,Hotels,Lodg...| 31.88892|-102.33335|\n",
      "|1268|AVweFB7p_7pvs4fz_18I| 2.546880006790161|Hampton Inn Suite...|              5.0|Hotels,Corporate ...| 34.17064| -97.16348|\n",
      "| 303|AVwd1Zo5ByjofQCxs7DO|2.4529221057891846|Comfort Suites-elgin|              4.0|Hotels,Hotels and...|42.093964| -88.33668|\n",
      "|1655|AVwclphkIN2L1WUfmqLw| 2.414456367492676|     Ojai Rancho Inn|              5.0|Hotel,Hotels and ...|  34.4445| -119.2532|\n",
      "| 961|AVwdYrkeIN2L1WUfvQ5Y|2.3984217643737793|La Quinta Inn & S...|             4.25|Office and loft b...| 32.67507|  -97.0321|\n",
      "|1758|AVwc5DdcIN2L1WUfqBcg| 2.369774103164673|Crossland Economy...|              4.0|Hotels,Lodging,Co...| 32.52805| -93.69846|\n",
      "+----+--------------------+------------------+--------------------+-----------------+--------------------+---------+----------+"
     ]
    }
   ],
   "source": [
    "sdf.show()"
   ]
  },
  {
   "cell_type": "code",
   "execution_count": null,
   "metadata": {},
   "outputs": [],
   "source": []
  },
  {
   "cell_type": "code",
   "execution_count": null,
   "metadata": {},
   "outputs": [],
   "source": []
  },
  {
   "cell_type": "code",
   "execution_count": null,
   "metadata": {},
   "outputs": [],
   "source": []
  },
  {
   "cell_type": "code",
   "execution_count": null,
   "metadata": {},
   "outputs": [],
   "source": []
  },
  {
   "cell_type": "code",
   "execution_count": null,
   "metadata": {},
   "outputs": [],
   "source": []
  }
 ],
 "metadata": {
  "kernelspec": {
   "display_name": "Python 3",
   "language": "python",
   "name": "python3"
  },
  "language_info": {
   "codemirror_mode": {
    "name": "ipython",
    "version": 3
   },
   "file_extension": ".py",
   "mimetype": "text/x-python",
   "name": "python",
   "nbconvert_exporter": "python",
   "pygments_lexer": "ipython3",
   "version": "3.6.5"
  }
 },
 "nbformat": 4,
 "nbformat_minor": 4
}
