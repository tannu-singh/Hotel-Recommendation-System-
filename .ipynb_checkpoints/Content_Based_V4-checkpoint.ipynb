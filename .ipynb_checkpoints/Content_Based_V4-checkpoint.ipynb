{
 "cells": [
  {
   "cell_type": "code",
   "execution_count": 2,
   "metadata": {},
   "outputs": [],
   "source": [
    "import findspark\n",
    "findspark.init()\n",
    "import pyspark # only run after findspark.init()\n",
    "from pyspark.sql import SparkSession\n",
    "spark = SparkSession.builder.getOrCreate()\n",
    "import os"
   ]
  },
  {
   "cell_type": "code",
   "execution_count": 3,
   "metadata": {},
   "outputs": [
    {
     "ename": "NameError",
     "evalue": "name 'sc' is not defined",
     "output_type": "error",
     "traceback": [
      "\u001b[1;31m---------------------------------------------------------------------------\u001b[0m",
      "\u001b[1;31mNameError\u001b[0m                                 Traceback (most recent call last)",
      "\u001b[1;32m<ipython-input-3-9248441c9b96>\u001b[0m in \u001b[0;36m<module>\u001b[1;34m()\u001b[0m\n\u001b[0;32m      1\u001b[0m \u001b[1;31m#install pandas\u001b[0m\u001b[1;33m\u001b[0m\u001b[1;33m\u001b[0m\u001b[0m\n\u001b[1;32m----> 2\u001b[1;33m \u001b[0msc\u001b[0m\u001b[1;33m.\u001b[0m\u001b[0minstall_pypi_package\u001b[0m\u001b[1;33m(\u001b[0m\u001b[1;34m\"pandas==0.25.1\"\u001b[0m\u001b[1;33m)\u001b[0m\u001b[1;33m\u001b[0m\u001b[0m\n\u001b[0m",
      "\u001b[1;31mNameError\u001b[0m: name 'sc' is not defined"
     ]
    }
   ],
   "source": [
    "#install pandas\n",
    "sc.install_pypi_package(\"pandas==0.25.1\")"
   ]
  },
  {
   "cell_type": "code",
   "execution_count": null,
   "metadata": {},
   "outputs": [],
   "source": [
    "# import other files\n",
    "import numpy as np\n",
    "import pandas as pd\n",
    "\n",
    "from operator import add\n",
    "from pyspark.ml.feature import RegexTokenizer, CountVectorizer\n",
    "from pyspark.ml.feature import StopWordsRemover, VectorAssembler\n",
    "from pyspark.ml.feature import Word2Vec, Word2VecModel\n",
    "from pyspark.ml.feature import IDF\n",
    "\n",
    "from pyspark.ml import Pipeline, PipelineModel\n",
    "\n",
    "\n",
    "from pyspark.sql.functions import *\n",
    "\n",
    "from pyspark.sql.types import *\n",
    "from pyspark import SparkContext\n",
    "\n",
    "\n",
    "#import folium\n",
    "#import html"
   ]
  },
  {
   "cell_type": "code",
   "execution_count": null,
   "metadata": {},
   "outputs": [],
   "source": []
  },
  {
   "cell_type": "code",
   "execution_count": 5,
   "metadata": {},
   "outputs": [
    {
     "data": {
      "application/vnd.jupyter.widget-view+json": {
       "model_id": "f2cbd385eb194a258a8603eb4aee3197",
       "version_major": 2,
       "version_minor": 0
      },
      "text/plain": [
       "VBox()"
      ]
     },
     "metadata": {},
     "output_type": "display_data"
    },
    {
     "data": {
      "application/vnd.jupyter.widget-view+json": {
       "model_id": "",
       "version_major": 2,
       "version_minor": 0
      },
      "text/plain": [
       "FloatProgress(value=0.0, bar_style='info', description='Progress:', layout=Layout(height='25px', width='50%'),…"
      ]
     },
     "metadata": {},
     "output_type": "display_data"
    }
   ],
   "source": [
    "#import other files\n",
    "import numpy as np\n",
    "import pandas as pd\n",
    "\n",
    "\n",
    "from pyspark.ml.linalg import DenseVector\n",
    "from pyspark.sql.functions import *\n",
    "from pyspark.ml import Pipeline\n",
    "from pyspark.sql.functions import *\n",
    "from pyspark.sql.types import *\n",
    "\n",
    "from operator import add\n",
    "from pyspark.ml.feature import RegexTokenizer, CountVectorizer\n",
    "from pyspark.ml.feature import StopWordsRemover\n",
    "from pyspark.ml.feature import HashingTF, IDF\n",
    "from pyspark.ml.feature import Word2Vec, Word2VecModel\n",
    "\n",
    "from pyspark.ml.clustering import LDA, LDAModel, LocalLDAModel\n",
    "from pyspark.sql import SQLContext\n",
    "sqlContext = SQLContext(spark)\n",
    "#from wordcloud import WordCloud\n",
    "\n",
    "from pyspark.ml.recommendation import ALS, ALSModel\n",
    "from pyspark.ml.tuning import TrainValidationSplit, ParamGridBuilder, CrossValidator\n",
    "from pyspark.ml.evaluation import RegressionEvaluator\n",
    "sc = spark.sparkContext"
   ]
  },
  {
   "cell_type": "code",
   "execution_count": null,
   "metadata": {},
   "outputs": [],
   "source": []
  },
  {
   "cell_type": "code",
   "execution_count": 18,
   "metadata": {},
   "outputs": [
    {
     "data": {
      "application/vnd.jupyter.widget-view+json": {
       "model_id": "9a143dc3c552443d88dda7e66fba4c92",
       "version_major": 2,
       "version_minor": 0
      },
      "text/plain": [
       "VBox()"
      ]
     },
     "metadata": {},
     "output_type": "display_data"
    },
    {
     "data": {
      "application/vnd.jupyter.widget-view+json": {
       "model_id": "",
       "version_major": 2,
       "version_minor": 0
      },
      "text/plain": [
       "FloatProgress(value=0.0, bar_style='info', description='Progress:', layout=Layout(height='25px', width='50%'),…"
      ]
     },
     "metadata": {},
     "output_type": "display_data"
    }
   ],
   "source": [
    "#reading file\n",
    "df_hotel = spark.read.csv( 's3://aws-emr-resources-038301381881-us-east-1/Datafiniti_Hotel_Reviews.csv',header=True)"
   ]
  },
  {
   "cell_type": "code",
   "execution_count": 19,
   "metadata": {},
   "outputs": [
    {
     "data": {
      "application/vnd.jupyter.widget-view+json": {
       "model_id": "a704c7d96cdd4d46bc02ebcba74d84e0",
       "version_major": 2,
       "version_minor": 0
      },
      "text/plain": [
       "VBox()"
      ]
     },
     "metadata": {},
     "output_type": "display_data"
    },
    {
     "data": {
      "application/vnd.jupyter.widget-view+json": {
       "model_id": "",
       "version_major": 2,
       "version_minor": 0
      },
      "text/plain": [
       "FloatProgress(value=0.0, bar_style='info', description='Progress:', layout=Layout(height='25px', width='50%'),…"
      ]
     },
     "metadata": {},
     "output_type": "display_data"
    },
    {
     "name": "stdout",
     "output_type": "stream",
     "text": [
      "root\n",
      " |-- id: string (nullable = true)\n",
      " |-- dateAdded: string (nullable = true)\n",
      " |-- dateUpdated: string (nullable = true)\n",
      " |-- address: string (nullable = true)\n",
      " |-- categories: string (nullable = true)\n",
      " |-- primaryCategories: string (nullable = true)\n",
      " |-- city: string (nullable = true)\n",
      " |-- country: string (nullable = true)\n",
      " |-- keys: string (nullable = true)\n",
      " |-- latitude: string (nullable = true)\n",
      " |-- longitude: string (nullable = true)\n",
      " |-- name: string (nullable = true)\n",
      " |-- postalCode: string (nullable = true)\n",
      " |-- province: string (nullable = true)\n",
      " |-- reviews.date: string (nullable = true)\n",
      " |-- reviews.dateSeen: string (nullable = true)\n",
      " |-- reviews.rating: string (nullable = true)\n",
      " |-- reviews.sourceURLs: string (nullable = true)\n",
      " |-- reviews.text: string (nullable = true)\n",
      " |-- reviews.title: string (nullable = true)\n",
      " |-- reviews.userCity: string (nullable = true)\n",
      " |-- reviews.userProvince: string (nullable = true)\n",
      " |-- reviews.username: string (nullable = true)\n",
      " |-- sourceURLs: string (nullable = true)\n",
      " |-- websites: string (nullable = true)"
     ]
    }
   ],
   "source": [
    "df_hotel.printSchema()"
   ]
  },
  {
   "cell_type": "code",
   "execution_count": 20,
   "metadata": {},
   "outputs": [
    {
     "data": {
      "application/vnd.jupyter.widget-view+json": {
       "model_id": "a86e399bb24a43a88f89919fb0f07e08",
       "version_major": 2,
       "version_minor": 0
      },
      "text/plain": [
       "VBox()"
      ]
     },
     "metadata": {},
     "output_type": "display_data"
    },
    {
     "data": {
      "application/vnd.jupyter.widget-view+json": {
       "model_id": "",
       "version_major": 2,
       "version_minor": 0
      },
      "text/plain": [
       "FloatProgress(value=0.0, bar_style='info', description='Progress:', layout=Layout(height='25px', width='50%'),…"
      ]
     },
     "metadata": {},
     "output_type": "display_data"
    }
   ],
   "source": [
    "\n",
    "#reviews_text = spark.sql(\"SELECT id, review.text FROM reviews\")"
   ]
  },
  {
   "cell_type": "code",
   "execution_count": null,
   "metadata": {},
   "outputs": [],
   "source": []
  },
  {
   "cell_type": "code",
   "execution_count": 22,
   "metadata": {},
   "outputs": [
    {
     "data": {
      "application/vnd.jupyter.widget-view+json": {
       "model_id": "29dd1a725c7b41108d6e554c9816b510",
       "version_major": 2,
       "version_minor": 0
      },
      "text/plain": [
       "VBox()"
      ]
     },
     "metadata": {},
     "output_type": "display_data"
    },
    {
     "data": {
      "application/vnd.jupyter.widget-view+json": {
       "model_id": "",
       "version_major": 2,
       "version_minor": 0
      },
      "text/plain": [
       "FloatProgress(value=0.0, bar_style='info', description='Progress:', layout=Layout(height='25px', width='50%'),…"
      ]
     },
     "metadata": {},
     "output_type": "display_data"
    },
    {
     "name": "stdout",
     "output_type": "stream",
     "text": [
      "'df = df.reduce(lambda df, idx: df.withColumnRenamed(oldColumns[idx], newColumns[idx]), xrange(len(oldColumns)), df)\\ndf.printSchema()\\ndf.show()'"
     ]
    }
   ],
   "source": [
    "#renaming columns \n",
    "def renameCols(df, old_columns, new_columns):\n",
    "    for old_col,new_col in zip(old_columns,new_columns):\n",
    "        df = df.withColumnRenamed(old_col,new_col)\n",
    "    return df\n",
    "oldColumns = df_hotel.schema.names\n",
    "newColumns = [\"hotel_id\", \"dateAdded\",\"dateUpdated\",\"address\",\"categories\",\"primaryCategories\",\"city\",\"country\",\"keys\",\"latitude\",\"longitude\",\"name\",\"postalCode\",\"province\",\"reviews_date\",\"reviews_dateSeen\",\"reviews_rating\",\"reviews_sourceURLs\",\"reviews_text\",\"reviews_title\",\"reviews_userCity\",\"reviews_userProvince\",\"reviews_username\",\"sourceURLs\",\"websites\"]\n",
    "df_renamed = renameCols(df_hotel, oldColumns, newColumns)\n",
    "'''df = df.reduce(lambda df, idx: df.withColumnRenamed(oldColumns[idx], newColumns[idx]), xrange(len(oldColumns)), df)\n",
    "df.printSchema()\n",
    "df.show()'''"
   ]
  },
  {
   "cell_type": "code",
   "execution_count": 23,
   "metadata": {},
   "outputs": [
    {
     "data": {
      "application/vnd.jupyter.widget-view+json": {
       "model_id": "55a33adc71e042888940321bf11a6cac",
       "version_major": 2,
       "version_minor": 0
      },
      "text/plain": [
       "VBox()"
      ]
     },
     "metadata": {},
     "output_type": "display_data"
    },
    {
     "data": {
      "application/vnd.jupyter.widget-view+json": {
       "model_id": "",
       "version_major": 2,
       "version_minor": 0
      },
      "text/plain": [
       "FloatProgress(value=0.0, bar_style='info', description='Progress:', layout=Layout(height='25px', width='50%'),…"
      ]
     },
     "metadata": {},
     "output_type": "display_data"
    },
    {
     "name": "stdout",
     "output_type": "stream",
     "text": [
      "root\n",
      " |-- hotel_id: string (nullable = true)\n",
      " |-- dateAdded: string (nullable = true)\n",
      " |-- dateUpdated: string (nullable = true)\n",
      " |-- address: string (nullable = true)\n",
      " |-- categories: string (nullable = true)\n",
      " |-- primaryCategories: string (nullable = true)\n",
      " |-- city: string (nullable = true)\n",
      " |-- country: string (nullable = true)\n",
      " |-- keys: string (nullable = true)\n",
      " |-- latitude: string (nullable = true)\n",
      " |-- longitude: string (nullable = true)\n",
      " |-- name: string (nullable = true)\n",
      " |-- postalCode: string (nullable = true)\n",
      " |-- province: string (nullable = true)\n",
      " |-- reviews_date: string (nullable = true)\n",
      " |-- reviews_dateSeen: string (nullable = true)\n",
      " |-- reviews_rating: string (nullable = true)\n",
      " |-- reviews_sourceURLs: string (nullable = true)\n",
      " |-- reviews_text: string (nullable = true)\n",
      " |-- reviews_title: string (nullable = true)\n",
      " |-- reviews_userCity: string (nullable = true)\n",
      " |-- reviews_userProvince: string (nullable = true)\n",
      " |-- reviews_username: string (nullable = true)\n",
      " |-- sourceURLs: string (nullable = true)\n",
      " |-- websites: string (nullable = true)"
     ]
    }
   ],
   "source": [
    "df_renamed.printSchema()"
   ]
  },
  {
   "cell_type": "code",
   "execution_count": 24,
   "metadata": {},
   "outputs": [
    {
     "data": {
      "application/vnd.jupyter.widget-view+json": {
       "model_id": "31aaa8debcd4427daf66b947d3ddd273",
       "version_major": 2,
       "version_minor": 0
      },
      "text/plain": [
       "VBox()"
      ]
     },
     "metadata": {},
     "output_type": "display_data"
    },
    {
     "data": {
      "application/vnd.jupyter.widget-view+json": {
       "model_id": "",
       "version_major": 2,
       "version_minor": 0
      },
      "text/plain": [
       "FloatProgress(value=0.0, bar_style='info', description='Progress:', layout=Layout(height='25px', width='50%'),…"
      ]
     },
     "metadata": {},
     "output_type": "display_data"
    },
    {
     "name": "stdout",
     "output_type": "stream",
     "text": [
      "1853\n",
      "1853"
     ]
    }
   ],
   "source": [
    "hotel_df = df_renamed.select('hotel_id', 'name','address','categories','primaryCategories','city','country','keys','latitude','longitude','postalCode','province')\n",
    "print(hotel_df.distinct().count())\n",
    "hotel_df =hotel_df.dropDuplicates(['hotel_id'])\n",
    "print(hotel_df.count())"
   ]
  },
  {
   "cell_type": "code",
   "execution_count": 25,
   "metadata": {},
   "outputs": [
    {
     "data": {
      "application/vnd.jupyter.widget-view+json": {
       "model_id": "a22615f2998d4140bb551ca8107f2415",
       "version_major": 2,
       "version_minor": 0
      },
      "text/plain": [
       "VBox()"
      ]
     },
     "metadata": {},
     "output_type": "display_data"
    },
    {
     "data": {
      "application/vnd.jupyter.widget-view+json": {
       "model_id": "",
       "version_major": 2,
       "version_minor": 0
      },
      "text/plain": [
       "FloatProgress(value=0.0, bar_style='info', description='Progress:', layout=Layout(height='25px', width='50%'),…"
      ]
     },
     "metadata": {},
     "output_type": "display_data"
    },
    {
     "name": "stdout",
     "output_type": "stream",
     "text": [
      "10000"
     ]
    }
   ],
   "source": [
    "#selecting hotel_id and reviews_text \n",
    "\n",
    "df_renamed.createOrReplaceTempView(\"reviews\")\n",
    "reviews_text = spark.sql(\"SELECT hotel_id, reviews_text FROM reviews\")\n",
    "reviews_text.count()"
   ]
  },
  {
   "cell_type": "code",
   "execution_count": 26,
   "metadata": {},
   "outputs": [
    {
     "data": {
      "application/vnd.jupyter.widget-view+json": {
       "model_id": "7723c520f2b645469665bc4c5ee92fdd",
       "version_major": 2,
       "version_minor": 0
      },
      "text/plain": [
       "VBox()"
      ]
     },
     "metadata": {},
     "output_type": "display_data"
    },
    {
     "data": {
      "application/vnd.jupyter.widget-view+json": {
       "model_id": "",
       "version_major": 2,
       "version_minor": 0
      },
      "text/plain": [
       "FloatProgress(value=0.0, bar_style='info', description='Progress:', layout=Layout(height='25px', width='50%'),…"
      ]
     },
     "metadata": {},
     "output_type": "display_data"
    },
    {
     "name": "stdout",
     "output_type": "stream",
     "text": [
      "1853"
     ]
    }
   ],
   "source": [
    "#renaming columns of review_Text\n",
    "reviews_text_rdd = reviews_text.rdd\n",
    "reviews_by_hotel_rdd = reviews_text_rdd.map(tuple).reduceByKey(add)  \n",
    "reviews_by_hotel_df = spark.createDataFrame(reviews_by_hotel_rdd)\n",
    "reviews_by_hotel_df = reviews_by_hotel_df.withColumnRenamed('_1', 'hotel_id').withColumnRenamed('_2', 'text')\n",
    "reviews_by_hotel_df.count()"
   ]
  },
  {
   "cell_type": "code",
   "execution_count": null,
   "metadata": {},
   "outputs": [],
   "source": []
  },
  {
   "cell_type": "code",
   "execution_count": null,
   "metadata": {},
   "outputs": [],
   "source": []
  },
  {
   "cell_type": "code",
   "execution_count": null,
   "metadata": {},
   "outputs": [],
   "source": []
  },
  {
   "cell_type": "code",
   "execution_count": 27,
   "metadata": {},
   "outputs": [
    {
     "data": {
      "application/vnd.jupyter.widget-view+json": {
       "model_id": "82543f636b4647a292d96ea6affe08fa",
       "version_major": 2,
       "version_minor": 0
      },
      "text/plain": [
       "VBox()"
      ]
     },
     "metadata": {},
     "output_type": "display_data"
    },
    {
     "data": {
      "application/vnd.jupyter.widget-view+json": {
       "model_id": "",
       "version_major": 2,
       "version_minor": 0
      },
      "text/plain": [
       "FloatProgress(value=0.0, bar_style='info', description='Progress:', layout=Layout(height='25px', width='50%'),…"
      ]
     },
     "metadata": {},
     "output_type": "display_data"
    }
   ],
   "source": [
    "# pre processingpipeline to remove stopwords , perform tf-idf\n",
    "\n",
    "from pyspark.ml.feature import StringIndexer, OneHotEncoder, VectorAssembler\n",
    "from pyspark.ml import Pipeline\n",
    "regexTokenizer = RegexTokenizer(gaps = False, pattern = '\\w+', inputCol = 'text', outputCol = 'token')\n",
    "stopWordsRemover = StopWordsRemover(inputCol = 'token', outputCol = 'nostopwrd')\n",
    "countVectorizer = CountVectorizer(inputCol=\"nostopwrd\", outputCol=\"rawFeature\")\n",
    "iDF = IDF(inputCol=\"rawFeature\", outputCol=\"idf_vec\")\n",
    "word2Vec = Word2Vec(vectorSize = 100, minCount = 5, inputCol = 'nostopwrd', outputCol = 'word_vec', seed=123)\n",
    "vectorAssembler = VectorAssembler(inputCols=['idf_vec', 'word_vec'], outputCol='comb_vec')\n",
    "pipeline = Pipeline(stages=[regexTokenizer, stopWordsRemover, countVectorizer, iDF, word2Vec, vectorAssembler])\n",
    "\n",
    "# fit the model\n",
    "pipeline_mdl = pipeline.fit(reviews_by_hotel_df)\n",
    "\n",
    "#save the pipeline model\n",
    "#pipeline_mdl.write().overwrite().save(model_path + 'pipe_txt')"
   ]
  },
  {
   "cell_type": "code",
   "execution_count": null,
   "metadata": {},
   "outputs": [],
   "source": []
  },
  {
   "cell_type": "code",
   "execution_count": 28,
   "metadata": {},
   "outputs": [
    {
     "data": {
      "application/vnd.jupyter.widget-view+json": {
       "model_id": "26e54723e4dc4f9fb9eefe3aef6abcc7",
       "version_major": 2,
       "version_minor": 0
      },
      "text/plain": [
       "VBox()"
      ]
     },
     "metadata": {},
     "output_type": "display_data"
    },
    {
     "data": {
      "application/vnd.jupyter.widget-view+json": {
       "model_id": "",
       "version_major": 2,
       "version_minor": 0
      },
      "text/plain": [
       "FloatProgress(value=0.0, bar_style='info', description='Progress:', layout=Layout(height='25px', width='50%'),…"
      ]
     },
     "metadata": {},
     "output_type": "display_data"
    }
   ],
   "source": [
    "reviews_by_hotel_trf_df = pipeline_mdl.transform(reviews_by_hotel_df)"
   ]
  },
  {
   "cell_type": "code",
   "execution_count": 29,
   "metadata": {},
   "outputs": [
    {
     "data": {
      "application/vnd.jupyter.widget-view+json": {
       "model_id": "13d8754854294e5b8a1f761478f960fd",
       "version_major": 2,
       "version_minor": 0
      },
      "text/plain": [
       "VBox()"
      ]
     },
     "metadata": {},
     "output_type": "display_data"
    },
    {
     "data": {
      "application/vnd.jupyter.widget-view+json": {
       "model_id": "",
       "version_major": 2,
       "version_minor": 0
      },
      "text/plain": [
       "FloatProgress(value=0.0, bar_style='info', description='Progress:', layout=Layout(height='25px', width='50%'),…"
      ]
     },
     "metadata": {},
     "output_type": "display_data"
    },
    {
     "name": "stdout",
     "output_type": "stream",
     "text": [
      "+--------------------+--------------------+--------------------+--------------------+--------------------+\n",
      "|                text|           nostopwrd|             idf_vec|            word_vec|            comb_vec|\n",
      "+--------------------+--------------------+--------------------+--------------------+--------------------+\n",
      "|Bad: Thumping mus...|[bad, thumping, m...|(17311,[0,1,2,3,4...|[-0.0156395900699...|(17411,[0,1,2,3,4...|\n",
      "|Bad: One complain...|[bad, one, compla...|(17311,[0,1,2,5,1...|[-0.0693684320479...|(17411,[0,1,2,5,1...|\n",
      "|Home 2 not only h...|[home, 2, excelle...|(17311,[0,1,2,3,4...|[-0.0122865324271...|(17411,[0,1,2,3,4...|\n",
      "|As a traveling su...|[traveling, super...|(17311,[0,1,2,3,4...|[-0.0350868301498...|(17411,[0,1,2,3,4...|\n",
      "|A good room at a ...|[good, room, good...|(17311,[1,5,7,12,...|[-0.0253731152042...|(17411,[1,5,7,12,...|\n",
      "|Our hotel room wa...|[hotel, room, spo...|(17311,[0,1,2,3,4...|[-0.0604035543944...|(17411,[0,1,2,3,4...|\n",
      "|I stayed here for...|[stayed, one, nig...|(17311,[1,2,6,7,8...|[-0.0328259404050...|(17411,[1,2,6,7,8...|\n",
      "|Sold our house an...|[sold, house, cou...|(17311,[0,2,4,7,8...|[-0.0603738253045...|(17411,[0,2,4,7,8...|\n",
      "|This is a good on...|[good, one, guys,...|(17311,[1,5,9,12,...|[0.00319981903562...|(17411,[1,5,9,12,...|\n",
      "|This place is rig...|[place, right, ba...|(17311,[2,4,9,11,...|[-0.0550953285096...|(17411,[2,4,9,11,...|\n",
      "+--------------------+--------------------+--------------------+--------------------+--------------------+\n",
      "only showing top 10 rows"
     ]
    }
   ],
   "source": [
    "reviews_by_hotel_trf_df.select( 'text', 'nostopwrd', 'idf_vec', 'word_vec', 'comb_vec').show(10)"
   ]
  },
  {
   "cell_type": "code",
   "execution_count": 30,
   "metadata": {},
   "outputs": [
    {
     "data": {
      "application/vnd.jupyter.widget-view+json": {
       "model_id": "f981f4daae7d42ce993ae057296c22c9",
       "version_major": 2,
       "version_minor": 0
      },
      "text/plain": [
       "VBox()"
      ]
     },
     "metadata": {},
     "output_type": "display_data"
    },
    {
     "data": {
      "application/vnd.jupyter.widget-view+json": {
       "model_id": "",
       "version_major": 2,
       "version_minor": 0
      },
      "text/plain": [
       "FloatProgress(value=0.0, bar_style='info', description='Progress:', layout=Layout(height='25px', width='50%'),…"
      ]
     },
     "metadata": {},
     "output_type": "display_data"
    },
    {
     "name": "stdout",
     "output_type": "stream",
     "text": [
      "root\n",
      " |-- hotel_id: string (nullable = true)\n",
      " |-- text: string (nullable = true)\n",
      " |-- token: array (nullable = true)\n",
      " |    |-- element: string (containsNull = true)\n",
      " |-- nostopwrd: array (nullable = true)\n",
      " |    |-- element: string (containsNull = true)\n",
      " |-- rawFeature: vector (nullable = true)\n",
      " |-- idf_vec: vector (nullable = true)\n",
      " |-- word_vec: vector (nullable = true)\n",
      " |-- comb_vec: vector (nullable = true)"
     ]
    }
   ],
   "source": [
    "reviews_by_hotel_trf_df.printSchema()"
   ]
  },
  {
   "cell_type": "code",
   "execution_count": 31,
   "metadata": {},
   "outputs": [
    {
     "data": {
      "application/vnd.jupyter.widget-view+json": {
       "model_id": "56c8d173d4024a3b80626732b3c42543",
       "version_major": 2,
       "version_minor": 0
      },
      "text/plain": [
       "VBox()"
      ]
     },
     "metadata": {},
     "output_type": "display_data"
    },
    {
     "data": {
      "application/vnd.jupyter.widget-view+json": {
       "model_id": "",
       "version_major": 2,
       "version_minor": 0
      },
      "text/plain": [
       "FloatProgress(value=0.0, bar_style='info', description='Progress:', layout=Layout(height='25px', width='50%'),…"
      ]
     },
     "metadata": {},
     "output_type": "display_data"
    }
   ],
   "source": [
    "#function to find cosine similarity\n",
    "\n",
    "def CosineSim(vec1, vec2): \n",
    "    return np.dot(vec1, vec2) / np.sqrt(np.dot(vec1, vec1)) / np.sqrt(np.dot(vec2, vec2))"
   ]
  },
  {
   "cell_type": "code",
   "execution_count": 32,
   "metadata": {},
   "outputs": [
    {
     "data": {
      "application/vnd.jupyter.widget-view+json": {
       "model_id": "7f47c650c93648748a1010c786e0057b",
       "version_major": 2,
       "version_minor": 0
      },
      "text/plain": [
       "VBox()"
      ]
     },
     "metadata": {},
     "output_type": "display_data"
    },
    {
     "data": {
      "application/vnd.jupyter.widget-view+json": {
       "model_id": "",
       "version_major": 2,
       "version_minor": 0
      },
      "text/plain": [
       "FloatProgress(value=0.0, bar_style='info', description='Progress:', layout=Layout(height='25px', width='50%'),…"
      ]
     },
     "metadata": {},
     "output_type": "display_data"
    }
   ],
   "source": [
    "# selecting id and word_vec columns\n",
    "all_hotel_vecs = reviews_by_hotel_trf_df.select('hotel_id', 'word_vec').rdd.map(lambda x: (x[0], x[1])).collect()"
   ]
  },
  {
   "cell_type": "code",
   "execution_count": 33,
   "metadata": {},
   "outputs": [
    {
     "data": {
      "application/vnd.jupyter.widget-view+json": {
       "model_id": "ba1ce875a2594a83b66fa0cc2d8031ca",
       "version_major": 2,
       "version_minor": 0
      },
      "text/plain": [
       "VBox()"
      ]
     },
     "metadata": {},
     "output_type": "display_data"
    },
    {
     "data": {
      "application/vnd.jupyter.widget-view+json": {
       "model_id": "",
       "version_major": 2,
       "version_minor": 0
      },
      "text/plain": [
       "FloatProgress(value=0.0, bar_style='info', description='Progress:', layout=Layout(height='25px', width='50%'),…"
      ]
     },
     "metadata": {},
     "output_type": "display_data"
    },
    {
     "name": "stdout",
     "output_type": "stream",
     "text": [
      "('AWE70c43RxPSIh2Rslyx', DenseVector([-0.0456, -0.0559, -0.0473, -0.038, 0.0565, 0.0193, 0.0369, -0.0159, -0.041, -0.0639, 0.0028, -0.0486, -0.0129, -0.0031, 0.0093, 0.0212, 0.0444, 0.0223, 0.0635, 0.0141, -0.0111, -0.018, 0.0457, -0.0139, -0.0754, 0.062, 0.0297, 0.0146, -0.0466, -0.0225, -0.057, 0.0089, -0.0617, -0.0183, -0.0202, -0.0125, 0.0433, -0.034, 0.0179, -0.089, -0.0287, 0.0086, -0.0141, -0.0303, 0.0001, -0.01, -0.0083, 0.017, -0.0005, -0.0248, -0.0425, 0.0442, 0.0159, -0.0431, -0.0267, 0.0082, -0.0617, 0.0005, 0.0292, 0.0632, -0.0225, 0.1714, 0.0426, 0.0333, -0.0056, -0.0123, -0.0448, 0.0168, 0.0905, 0.0082, -0.0449, -0.0333, 0.0149, 0.018, -0.0426, -0.0551, -0.0234, -0.0269, -0.0034, -0.0689, -0.0149, 0.0649, 0.0567, 0.0442, 0.0078, -0.0792, 0.0677, 0.0181, 0.0542, 0.0445, 0.0463, -0.1376, 0.0405, 0.0471, 0.037, -0.018, 0.0045, -0.0231, -0.0145, -0.0665]))"
     ]
    }
   ],
   "source": [
    "all_hotel_vecs[1]"
   ]
  },
  {
   "cell_type": "code",
   "execution_count": 34,
   "metadata": {},
   "outputs": [
    {
     "data": {
      "application/vnd.jupyter.widget-view+json": {
       "model_id": "fd1981d0d0d447a9835c37510fdbdef7",
       "version_major": 2,
       "version_minor": 0
      },
      "text/plain": [
       "VBox()"
      ]
     },
     "metadata": {},
     "output_type": "display_data"
    },
    {
     "data": {
      "application/vnd.jupyter.widget-view+json": {
       "model_id": "",
       "version_major": 2,
       "version_minor": 0
      },
      "text/plain": [
       "FloatProgress(value=0.0, bar_style='info', description='Progress:', layout=Layout(height='25px', width='50%'),…"
      ]
     },
     "metadata": {},
     "output_type": "display_data"
    },
    {
     "name": "stdout",
     "output_type": "stream",
     "text": [
      "'AWE70c43RxPSIh2Rslyx'"
     ]
    }
   ],
   "source": [
    "all_hotel_vecs[1][0]"
   ]
  },
  {
   "cell_type": "code",
   "execution_count": 35,
   "metadata": {},
   "outputs": [
    {
     "data": {
      "application/vnd.jupyter.widget-view+json": {
       "model_id": "1abcb3251f4b4bbe8a68a6e5a728dff8",
       "version_major": 2,
       "version_minor": 0
      },
      "text/plain": [
       "VBox()"
      ]
     },
     "metadata": {},
     "output_type": "display_data"
    },
    {
     "data": {
      "application/vnd.jupyter.widget-view+json": {
       "model_id": "",
       "version_major": 2,
       "version_minor": 0
      },
      "text/plain": [
       "FloatProgress(value=0.0, bar_style='info', description='Progress:', layout=Layout(height='25px', width='50%'),…"
      ]
     },
     "metadata": {},
     "output_type": "display_data"
    },
    {
     "name": "stdout",
     "output_type": "stream",
     "text": [
      "DenseVector([-0.0456, -0.0559, -0.0473, -0.038, 0.0565, 0.0193, 0.0369, -0.0159, -0.041, -0.0639, 0.0028, -0.0486, -0.0129, -0.0031, 0.0093, 0.0212, 0.0444, 0.0223, 0.0635, 0.0141, -0.0111, -0.018, 0.0457, -0.0139, -0.0754, 0.062, 0.0297, 0.0146, -0.0466, -0.0225, -0.057, 0.0089, -0.0617, -0.0183, -0.0202, -0.0125, 0.0433, -0.034, 0.0179, -0.089, -0.0287, 0.0086, -0.0141, -0.0303, 0.0001, -0.01, -0.0083, 0.017, -0.0005, -0.0248, -0.0425, 0.0442, 0.0159, -0.0431, -0.0267, 0.0082, -0.0617, 0.0005, 0.0292, 0.0632, -0.0225, 0.1714, 0.0426, 0.0333, -0.0056, -0.0123, -0.0448, 0.0168, 0.0905, 0.0082, -0.0449, -0.0333, 0.0149, 0.018, -0.0426, -0.0551, -0.0234, -0.0269, -0.0034, -0.0689, -0.0149, 0.0649, 0.0567, 0.0442, 0.0078, -0.0792, 0.0677, 0.0181, 0.0542, 0.0445, 0.0463, -0.1376, 0.0405, 0.0471, 0.037, -0.018, 0.0045, -0.0231, -0.0145, -0.0665])"
     ]
    }
   ],
   "source": [
    "all_hotel_vecs[1][1]"
   ]
  },
  {
   "cell_type": "code",
   "execution_count": 36,
   "metadata": {},
   "outputs": [
    {
     "data": {
      "application/vnd.jupyter.widget-view+json": {
       "model_id": "c0407b31e42c4fe28a7a072c899ef783",
       "version_major": 2,
       "version_minor": 0
      },
      "text/plain": [
       "VBox()"
      ]
     },
     "metadata": {},
     "output_type": "display_data"
    },
    {
     "data": {
      "application/vnd.jupyter.widget-view+json": {
       "model_id": "",
       "version_major": 2,
       "version_minor": 0
      },
      "text/plain": [
       "FloatProgress(value=0.0, bar_style='info', description='Progress:', layout=Layout(height='25px', width='50%'),…"
      ]
     },
     "metadata": {},
     "output_type": "display_data"
    }
   ],
   "source": [
    "# function to find similar hotels\n",
    "\n",
    "def getSimilarHotels(b_ids, sim_bus_limit=10):\n",
    "    \n",
    "    schema = StructType([   \n",
    "                            StructField(\"hotel_id\", StringType(), True)\n",
    "                            ,StructField(\"score\", IntegerType(), True)\n",
    "                            ,StructField(\"input_hotel_id\", StringType(), True)\n",
    "                        ])\n",
    "    \n",
    "    similar_hotel_df = spark.createDataFrame([], schema)\n",
    "    \n",
    "    for b_id in b_ids:\n",
    "        \n",
    "        input_vec = [(r[1]) for r in all_hotel_vecs if r[0] == b_id][0]\n",
    "        \n",
    "        similar_hotel_rdd = sc.parallelize((i[0], float(CosineSim(input_vec, i[1]))) for i in all_hotel_vecs)\n",
    "        \n",
    "        similar_hotel_df = spark.createDataFrame(similar_hotel_rdd).withColumnRenamed('_1', 'hotel_id').withColumnRenamed('_2', 'score').orderBy(\"score\", ascending = False)\n",
    "            \n",
    "        similar_hotel_df = similar_hotel_df.filter(col(\"hotel_id\") != b_id).limit(sim_bus_limit)\n",
    "        similar_hotel_df = similar_hotel_df.withColumn('input_hotel_id', lit(b_id))\n",
    "        \n",
    "        print(similar_hotel_df.count())\n",
    "        similar_hotel_df = similar_hotel_df.union(similar_hotel_df)\n",
    "        \n",
    "        similar_hotel_df.show()\n",
    "    return similar_hotel_df\n"
   ]
  },
  {
   "cell_type": "code",
   "execution_count": 37,
   "metadata": {},
   "outputs": [
    {
     "data": {
      "application/vnd.jupyter.widget-view+json": {
       "model_id": "c6092aefa86c4678aff615dcb967dc48",
       "version_major": 2,
       "version_minor": 0
      },
      "text/plain": [
       "VBox()"
      ]
     },
     "metadata": {},
     "output_type": "display_data"
    },
    {
     "data": {
      "application/vnd.jupyter.widget-view+json": {
       "model_id": "",
       "version_major": 2,
       "version_minor": 0
      },
      "text/plain": [
       "FloatProgress(value=0.0, bar_style='info', description='Progress:', layout=Layout(height='25px', width='50%'),…"
      ]
     },
     "metadata": {},
     "output_type": "display_data"
    }
   ],
   "source": [
    "#hotel_df.select(\"hotel_id\").distinct().show(1853)"
   ]
  },
  {
   "cell_type": "code",
   "execution_count": 38,
   "metadata": {},
   "outputs": [
    {
     "data": {
      "application/vnd.jupyter.widget-view+json": {
       "model_id": "8df172a33d3a4d179c9d02f1e82cdc50",
       "version_major": 2,
       "version_minor": 0
      },
      "text/plain": [
       "VBox()"
      ]
     },
     "metadata": {},
     "output_type": "display_data"
    },
    {
     "data": {
      "application/vnd.jupyter.widget-view+json": {
       "model_id": "",
       "version_major": 2,
       "version_minor": 0
      },
      "text/plain": [
       "FloatProgress(value=0.0, bar_style='info', description='Progress:', layout=Layout(height='25px', width='50%'),…"
      ]
     },
     "metadata": {},
     "output_type": "display_data"
    }
   ],
   "source": [
    "# function to map hotel details based on iid\n",
    "def getHotelsDetails(in_bus):\n",
    "    \n",
    "    a = in_bus.alias(\"a\")\n",
    "    b = hotel_df.alias(\"b\")\n",
    "    \n",
    "    a.show(truncate=False)\n",
    "    return a.join(b, col(\"a.hotel_id\") == col(\"b.hotel_id\"), 'inner').select([col('a.'+xx) for xx in a.columns] + [col('b.name'),col('b.address'),col('b.categories'),\n",
    "                                                           col('b.latitude'),col('b.longitude')])"
   ]
  },
  {
   "cell_type": "code",
   "execution_count": null,
   "metadata": {},
   "outputs": [],
   "source": []
  },
  {
   "cell_type": "code",
   "execution_count": 39,
   "metadata": {},
   "outputs": [
    {
     "data": {
      "application/vnd.jupyter.widget-view+json": {
       "model_id": "992ab2f332eb40109a98083fdc314223",
       "version_major": 2,
       "version_minor": 0
      },
      "text/plain": [
       "VBox()"
      ]
     },
     "metadata": {},
     "output_type": "display_data"
    },
    {
     "data": {
      "application/vnd.jupyter.widget-view+json": {
       "model_id": "",
       "version_major": 2,
       "version_minor": 0
      },
      "text/plain": [
       "FloatProgress(value=0.0, bar_style='info', description='Progress:', layout=Layout(height='25px', width='50%'),…"
      ]
     },
     "metadata": {},
     "output_type": "display_data"
    },
    {
     "name": "stdout",
     "output_type": "stream",
     "text": [
      "\n",
      "input restaurants details:\n",
      "+--------------------+------------+---------------------+------------+\n",
      "|hotel_id            |name        |address              |categories  |\n",
      "+--------------------+------------+---------------------+------------+\n",
      "|AV-TGwK3IxWefVJwr5IJ|Kinzie Hotel|20 West Kinzie Street|Hotels,Hotel|\n",
      "|AV-TGwK3IxWefVJwr5IJ|Kinzie Hotel|20 West Kinzie Street|Hotels,Hotel|\n",
      "|AV-TGwK3IxWefVJwr5IJ|Kinzie Hotel|20 West Kinzie Street|Hotels,Hotel|\n",
      "|AV-TGwK3IxWefVJwr5IJ|Kinzie Hotel|20 West Kinzie Street|Hotels,Hotel|\n",
      "|AV-TGwK3IxWefVJwr5IJ|Kinzie Hotel|20 West Kinzie Street|Hotels,Hotel|\n",
      "|AV-TGwK3IxWefVJwr5IJ|Kinzie Hotel|20 West Kinzie Street|Hotels,Hotel|\n",
      "|AV-TGwK3IxWefVJwr5IJ|Kinzie Hotel|20 West Kinzie Street|Hotels,Hotel|\n",
      "|AV-TGwK3IxWefVJwr5IJ|Kinzie Hotel|20 West Kinzie Street|Hotels,Hotel|\n",
      "|AV-TGwK3IxWefVJwr5IJ|Kinzie Hotel|20 West Kinzie Street|Hotels,Hotel|\n",
      "|AV-TGwK3IxWefVJwr5IJ|Kinzie Hotel|20 West Kinzie Street|Hotels,Hotel|\n",
      "|AV-TGwK3IxWefVJwr5IJ|Kinzie Hotel|20 West Kinzie Street|Hotels,Hotel|\n",
      "|AV-TGwK3IxWefVJwr5IJ|Kinzie Hotel|20 West Kinzie Street|Hotels,Hotel|\n",
      "|AV-TGwK3IxWefVJwr5IJ|Kinzie Hotel|20 West Kinzie Street|Hotels,Hotel|\n",
      "|AV-TGwK3IxWefVJwr5IJ|Kinzie Hotel|20 West Kinzie Street|Hotels,Hotel|\n",
      "|AV-TGwK3IxWefVJwr5IJ|Kinzie Hotel|20 West Kinzie Street|Hotels,Hotel|\n",
      "|AV-TGwK3IxWefVJwr5IJ|Kinzie Hotel|20 West Kinzie Street|Hotels,Hotel|\n",
      "|AV-TGwK3IxWefVJwr5IJ|Kinzie Hotel|20 West Kinzie Street|Hotels,Hotel|\n",
      "|AV-TGwK3IxWefVJwr5IJ|Kinzie Hotel|20 West Kinzie Street|Hotels,Hotel|\n",
      "|AV-TGwK3IxWefVJwr5IJ|Kinzie Hotel|20 West Kinzie Street|Hotels,Hotel|\n",
      "|AV-TGwK3IxWefVJwr5IJ|Kinzie Hotel|20 West Kinzie Street|Hotels,Hotel|\n",
      "+--------------------+------------+---------------------+------------+\n",
      "only showing top 20 rows\n",
      "\n",
      "10\n",
      "+--------------------+------------------+--------------------+\n",
      "|            hotel_id|             score|      input_hotel_id|\n",
      "+--------------------+------------------+--------------------+\n",
      "|AVzxo_taLD2H7whiX61c|0.9833148799598468|AV-TGwK3IxWefVJwr5IJ|\n",
      "|AWKkrZYpa4HuVbedPT1I|0.9663576654099867|AV-TGwK3IxWefVJwr5IJ|\n",
      "|AV1c89jw3-Khe5l_MVmh|0.9647764714947505|AV-TGwK3IxWefVJwr5IJ|\n",
      "|AV-TGsFqRxPSIh2RmVF-|0.9575909550019944|AV-TGwK3IxWefVJwr5IJ|\n",
      "|AVwdCuq8ByjofQCxk5zA|0.9534110078732327|AV-TGwK3IxWefVJwr5IJ|\n",
      "|AWE2BgHcIxWefVJwyDYU|0.9526259112490563|AV-TGwK3IxWefVJwr5IJ|\n",
      "|AVzX1GbfFcQ3k02bB73-|0.9524387637042792|AV-TGwK3IxWefVJwr5IJ|\n",
      "|AWKoW_tYa4HuVbedPVUg|0.9508599696063409|AV-TGwK3IxWefVJwr5IJ|\n",
      "|AWKpYhaja4HuVbedPVes| 0.947188666316894|AV-TGwK3IxWefVJwr5IJ|\n",
      "|AWE1_Z8-RxPSIh2Rsaks|0.9466544443926385|AV-TGwK3IxWefVJwr5IJ|\n",
      "|AVzxo_taLD2H7whiX61c|0.9833148799598468|AV-TGwK3IxWefVJwr5IJ|\n",
      "|AWKkrZYpa4HuVbedPT1I|0.9663576654099867|AV-TGwK3IxWefVJwr5IJ|\n",
      "|AV1c89jw3-Khe5l_MVmh|0.9647764714947505|AV-TGwK3IxWefVJwr5IJ|\n",
      "|AV-TGsFqRxPSIh2RmVF-|0.9575909550019944|AV-TGwK3IxWefVJwr5IJ|\n",
      "|AVwdCuq8ByjofQCxk5zA|0.9534110078732327|AV-TGwK3IxWefVJwr5IJ|\n",
      "|AWE2BgHcIxWefVJwyDYU|0.9526259112490563|AV-TGwK3IxWefVJwr5IJ|\n",
      "|AVzX1GbfFcQ3k02bB73-|0.9524387637042792|AV-TGwK3IxWefVJwr5IJ|\n",
      "|AWKoW_tYa4HuVbedPVUg|0.9508599696063409|AV-TGwK3IxWefVJwr5IJ|\n",
      "|AWKpYhaja4HuVbedPVes| 0.947188666316894|AV-TGwK3IxWefVJwr5IJ|\n",
      "|AWE1_Z8-RxPSIh2Rsaks|0.9466544443926385|AV-TGwK3IxWefVJwr5IJ|\n",
      "+--------------------+------------------+--------------------+\n",
      "\n",
      "10\n",
      "+--------------------+------------------+--------------------+\n",
      "|            hotel_id|             score|      input_hotel_id|\n",
      "+--------------------+------------------+--------------------+\n",
      "|AVwdms0k_7pvs4fz7iCg|0.9664540116087724|AVwc1J5lByjofQCxiqZT|\n",
      "|AVwdwXySByjofQCxsNWW|0.9464663681787103|AVwc1J5lByjofQCxiqZT|\n",
      "|AVwdhpyykufWRAb56wlT|0.9415657783903776|AVwc1J5lByjofQCxiqZT|\n",
      "|AVwdUZ5-kufWRAb54pRh|0.9401148388064227|AVwc1J5lByjofQCxiqZT|\n",
      "|AVwed2jdkufWRAb5DLdS|0.9388413748312716|AVwc1J5lByjofQCxiqZT|\n",
      "|AVweAqEb_7pvs4fz_PEY|0.9374295250090168|AVwc1J5lByjofQCxiqZT|\n",
      "|AVwc4_NSIN2L1WUfqAvs|0.9348554042798297|AVwc1J5lByjofQCxiqZT|\n",
      "|AVwdfXNekufWRAb56Z8V|0.9345286260335774|AVwc1J5lByjofQCxiqZT|\n",
      "|AVweHqHmIN2L1WUf2J57|0.9336810777019837|AVwc1J5lByjofQCxiqZT|\n",
      "|AVwdLK4ikufWRAb53EKT|0.9327563605630341|AVwc1J5lByjofQCxiqZT|\n",
      "|AVwdms0k_7pvs4fz7iCg|0.9664540116087724|AVwc1J5lByjofQCxiqZT|\n",
      "|AVwdwXySByjofQCxsNWW|0.9464663681787103|AVwc1J5lByjofQCxiqZT|\n",
      "|AVwdhpyykufWRAb56wlT|0.9415657783903776|AVwc1J5lByjofQCxiqZT|\n",
      "|AVwdUZ5-kufWRAb54pRh|0.9401148388064227|AVwc1J5lByjofQCxiqZT|\n",
      "|AVwed2jdkufWRAb5DLdS|0.9388413748312716|AVwc1J5lByjofQCxiqZT|\n",
      "|AVweAqEb_7pvs4fz_PEY|0.9374295250090168|AVwc1J5lByjofQCxiqZT|\n",
      "|AVwc4_NSIN2L1WUfqAvs|0.9348554042798297|AVwc1J5lByjofQCxiqZT|\n",
      "|AVwdfXNekufWRAb56Z8V|0.9345286260335774|AVwc1J5lByjofQCxiqZT|\n",
      "|AVweHqHmIN2L1WUf2J57|0.9336810777019837|AVwc1J5lByjofQCxiqZT|\n",
      "|AVwdLK4ikufWRAb53EKT|0.9327563605630341|AVwc1J5lByjofQCxiqZT|\n",
      "+--------------------+------------------+--------------------+\n",
      "\n",
      "+--------------------+------------------+--------------------+\n",
      "|hotel_id            |score             |input_hotel_id      |\n",
      "+--------------------+------------------+--------------------+\n",
      "|AVwdms0k_7pvs4fz7iCg|0.9664540116087724|AVwc1J5lByjofQCxiqZT|\n",
      "|AVwdwXySByjofQCxsNWW|0.9464663681787103|AVwc1J5lByjofQCxiqZT|\n",
      "|AVwdhpyykufWRAb56wlT|0.9415657783903776|AVwc1J5lByjofQCxiqZT|\n",
      "|AVwdUZ5-kufWRAb54pRh|0.9401148388064227|AVwc1J5lByjofQCxiqZT|\n",
      "|AVwed2jdkufWRAb5DLdS|0.9388413748312716|AVwc1J5lByjofQCxiqZT|\n",
      "|AVweAqEb_7pvs4fz_PEY|0.9374295250090168|AVwc1J5lByjofQCxiqZT|\n",
      "|AVwc4_NSIN2L1WUfqAvs|0.9348554042798297|AVwc1J5lByjofQCxiqZT|\n",
      "|AVwdfXNekufWRAb56Z8V|0.9345286260335774|AVwc1J5lByjofQCxiqZT|\n",
      "|AVweHqHmIN2L1WUf2J57|0.9336810777019837|AVwc1J5lByjofQCxiqZT|\n",
      "|AVwdLK4ikufWRAb53EKT|0.9327563605630341|AVwc1J5lByjofQCxiqZT|\n",
      "|AVwdms0k_7pvs4fz7iCg|0.9664540116087724|AVwc1J5lByjofQCxiqZT|\n",
      "|AVwdwXySByjofQCxsNWW|0.9464663681787103|AVwc1J5lByjofQCxiqZT|\n",
      "|AVwdhpyykufWRAb56wlT|0.9415657783903776|AVwc1J5lByjofQCxiqZT|\n",
      "|AVwdUZ5-kufWRAb54pRh|0.9401148388064227|AVwc1J5lByjofQCxiqZT|\n",
      "|AVwed2jdkufWRAb5DLdS|0.9388413748312716|AVwc1J5lByjofQCxiqZT|\n",
      "|AVweAqEb_7pvs4fz_PEY|0.9374295250090168|AVwc1J5lByjofQCxiqZT|\n",
      "|AVwc4_NSIN2L1WUfqAvs|0.9348554042798297|AVwc1J5lByjofQCxiqZT|\n",
      "|AVwdfXNekufWRAb56Z8V|0.9345286260335774|AVwc1J5lByjofQCxiqZT|\n",
      "|AVweHqHmIN2L1WUf2J57|0.9336810777019837|AVwc1J5lByjofQCxiqZT|\n",
      "|AVwdLK4ikufWRAb53EKT|0.9327563605630341|AVwc1J5lByjofQCxiqZT|\n",
      "+--------------------+------------------+--------------------+\n",
      "\n",
      "Top 10 similar restaurants for each input restaurant are:\"\n",
      "          input_hotel_id  ...                                         categories\n",
      "0   AVwc1J5lByjofQCxiqZT  ...  Hotels and motels,Hotel and motel reservations...\n",
      "1   AVwc1J5lByjofQCxiqZT  ...  Hotels and motels,Hotel and motel reservations...\n",
      "2   AVwc1J5lByjofQCxiqZT  ...  Hotel,Lodging,Corporate Housing,Hotels Motels,...\n",
      "3   AVwc1J5lByjofQCxiqZT  ...  Hotel,Lodging,Corporate Housing,Hotels Motels,...\n",
      "4   AVwc1J5lByjofQCxiqZT  ...      Hotels,Corporate Lodging,Lodging,Motels,Hotel\n",
      "5   AVwc1J5lByjofQCxiqZT  ...      Hotels,Corporate Lodging,Lodging,Motels,Hotel\n",
      "6   AVwc1J5lByjofQCxiqZT  ...  Hotels,Lodging,Corporate Lodging,Hotels and mo...\n",
      "7   AVwc1J5lByjofQCxiqZT  ...  Hotels,Lodging,Corporate Lodging,Hotels and mo...\n",
      "8   AVwc1J5lByjofQCxiqZT  ...          Hotel,Hotels,Hotels Motels,Bed Breakfasts\n",
      "9   AVwc1J5lByjofQCxiqZT  ...          Hotel,Hotels,Hotels Motels,Bed Breakfasts\n",
      "10  AVwc1J5lByjofQCxiqZT  ...  Hotel,Hotels and motels,Hotel and motel reserv...\n",
      "11  AVwc1J5lByjofQCxiqZT  ...  Hotel,Hotels and motels,Hotel and motel reserv...\n",
      "12  AVwc1J5lByjofQCxiqZT  ...             Hotels and motels,Hotels,Lodging,Hotel\n",
      "13  AVwc1J5lByjofQCxiqZT  ...             Hotels and motels,Hotels,Lodging,Hotel\n",
      "14  AVwc1J5lByjofQCxiqZT  ...  Hotels,Hotel,Hotels and motels,Lodging,Corpora...\n",
      "15  AVwc1J5lByjofQCxiqZT  ...  Hotels,Hotel,Hotels and motels,Lodging,Corpora...\n",
      "16  AVwc1J5lByjofQCxiqZT  ...  Hotels and motels,Hotel and motel reservations...\n",
      "17  AVwc1J5lByjofQCxiqZT  ...  Hotels and motels,Hotel and motel reservations...\n",
      "18  AVwc1J5lByjofQCxiqZT  ...                     Hotels and motels,Hotels,Hotel\n",
      "19  AVwc1J5lByjofQCxiqZT  ...                     Hotels and motels,Hotels,Hotel\n",
      "\n",
      "[20 rows x 4 columns]"
     ]
    }
   ],
   "source": [
    "# top 10 similar hotels for each input\n",
    "\n",
    "bids = ['AV-TGwK3IxWefVJwr5IJ', 'AVwc1J5lByjofQCxiqZT']\n",
    "\n",
    "print('\\ninput restaurants details:')\n",
    "df_renamed.select('hotel_id','name','address', 'categories').filter(df_renamed.hotel_id.isin(bids) == True).show(truncate=False)\n",
    "    \n",
    "# get top 10 similar hotels\n",
    "sims = getHotelsDetails(getSimilarHotels(bids))\n",
    "\n",
    "print('Top 10 similar restaurants for each input restaurant are:\"')\n",
    "sims.select('input_hotel_id','address', 'score','categories').toPandas()"
   ]
  },
  {
   "cell_type": "code",
   "execution_count": 40,
   "metadata": {},
   "outputs": [
    {
     "data": {
      "application/vnd.jupyter.widget-view+json": {
       "model_id": "30bbbe31f55543f9baddf3ab2a5bcaac",
       "version_major": 2,
       "version_minor": 0
      },
      "text/plain": [
       "VBox()"
      ]
     },
     "metadata": {},
     "output_type": "display_data"
    },
    {
     "data": {
      "application/vnd.jupyter.widget-view+json": {
       "model_id": "",
       "version_major": 2,
       "version_minor": 0
      },
      "text/plain": [
       "FloatProgress(value=0.0, bar_style='info', description='Progress:', layout=Layout(height='25px', width='50%'),…"
      ]
     },
     "metadata": {},
     "output_type": "display_data"
    }
   ],
   "source": [
    "#recommend hotels based on user id\n",
    "def getContentRecoms(u_id, sim_bus_limit=10):\n",
    "    \n",
    "    # select restaurants previously reviewed (3+) by the user\n",
    "    query = \"\"\"\n",
    "    SELECT distinct hotel_id FROM reviews  \n",
    "    where reviews_rating >= 3.0 \n",
    "    and reviews_username = \"{}\"\n",
    "    \"\"\".format(u_id)\n",
    "\n",
    "    usr_rev_bus = sqlContext.sql(query)\n",
    "    #print(\"@@@@@@@@@@@@@@@@@@@@@@@@@\")\n",
    "    usr_rev_bus.show()\n",
    "    # from these get sample of 5 restaurants\n",
    "    usr_rev_bus = usr_rev_bus.sample(False, 0.5).limit(5)\n",
    "    usr_rev_bus.show()\n",
    "    usr_rev_bus_det = getHotelsDetails(usr_rev_bus)\n",
    "    #print(\"%%%%%%%%%%%%%%%%%%%%%%%%%%%%%%%%%%%\")\n",
    "    usr_rev_bus_det.show()\n",
    "    # show the sample details\n",
    "    print('\\nHotels previously reviewed by user:')\n",
    "    usr_rev_bus_det.select(['hotel_id', 'address', 'categories']).show(truncate = False)\n",
    "\n",
    "    bus_list = [i.hotel_id for i in usr_rev_bus.collect()]\n",
    "\n",
    "    # get restaurants similar to the sample\n",
    "    sim_bus_df = getSimilarHotels(bus_list, sim_bus_limit)\n",
    "\n",
    "    # filter out those have been reviewd before by the user\n",
    "    s = sim_bus_df.alias(\"s\")\n",
    "    r = usr_rev_bus.alias(\"r\")\n",
    "    j = s.join(r, col(\"s.hotel_id\") == col(\"r.hotel_id\"), 'left_outer') \\\n",
    "         .where(col(\"r.hotel_id\").isNull()) \\\n",
    "         .select([col('s.hotel_id'),col('s.score')])\n",
    "\n",
    "    a = j.orderBy(\"score\", ascending = False).limit(sim_bus_limit)\n",
    "\n",
    "    return getHotelsDetails(a)"
   ]
  },
  {
   "cell_type": "code",
   "execution_count": 41,
   "metadata": {},
   "outputs": [
    {
     "data": {
      "application/vnd.jupyter.widget-view+json": {
       "model_id": "e60cc6fbb5f847a0a9a47695126a4026",
       "version_major": 2,
       "version_minor": 0
      },
      "text/plain": [
       "VBox()"
      ]
     },
     "metadata": {},
     "output_type": "display_data"
    },
    {
     "data": {
      "application/vnd.jupyter.widget-view+json": {
       "model_id": "",
       "version_major": 2,
       "version_minor": 0
      },
      "text/plain": [
       "FloatProgress(value=0.0, bar_style='info', description='Progress:', layout=Layout(height='25px', width='50%'),…"
      ]
     },
     "metadata": {},
     "output_type": "display_data"
    },
    {
     "name": "stdout",
     "output_type": "stream",
     "text": [
      "+--------------------+\n",
      "|            hotel_id|\n",
      "+--------------------+\n",
      "|AVwdJJWc_7pvs4fz2sLy|\n",
      "|AVwcez7uIN2L1WUflaaT|\n",
      "+--------------------+\n",
      "\n",
      "+--------------------+\n",
      "|            hotel_id|\n",
      "+--------------------+\n",
      "|AVwdJJWc_7pvs4fz2sLy|\n",
      "+--------------------+\n",
      "\n",
      "+--------------------+\n",
      "|hotel_id            |\n",
      "+--------------------+\n",
      "|AVwdJJWc_7pvs4fz2sLy|\n",
      "+--------------------+\n",
      "\n",
      "+--------------------+--------------------+--------------------+--------------------+--------+---------+\n",
      "|            hotel_id|                name|             address|          categories|latitude|longitude|\n",
      "+--------------------+--------------------+--------------------+--------------------+--------+---------+\n",
      "|AVwdJJWc_7pvs4fz2sLy|Hampton Inn Bowli...|233 Three Springs Rd|Hotels,Lodging,Co...|36.93825|-86.42222|\n",
      "+--------------------+--------------------+--------------------+--------------------+--------+---------+\n",
      "\n",
      "\n",
      "Hotels previously reviewed by user:\n",
      "+--------------------+--------------------+-------------------------------------------------------------------------------------+\n",
      "|hotel_id            |address             |categories                                                                           |\n",
      "+--------------------+--------------------+-------------------------------------------------------------------------------------+\n",
      "|AVwdJJWc_7pvs4fz2sLy|233 Three Springs Rd|Hotels,Lodging,Corporate Lodging,Hotel,Hotels and motels,Hotel and motel reservations|\n",
      "+--------------------+--------------------+-------------------------------------------------------------------------------------+\n",
      "\n",
      "10\n",
      "+--------------------+------------------+--------------------+\n",
      "|            hotel_id|             score|      input_hotel_id|\n",
      "+--------------------+------------------+--------------------+\n",
      "|AVwdNApbIN2L1WUftTMk|0.9592643042745791|AVwdJJWc_7pvs4fz2sLy|\n",
      "|AVwcqZ3LIN2L1WUfnf7-|0.9496060584662751|AVwdJJWc_7pvs4fz2sLy|\n",
      "|AVwc2rCTkufWRAb5zt6J|0.9457003503046686|AVwdJJWc_7pvs4fz2sLy|\n",
      "|AWBwmDwiIxWefVJwvAe-| 0.940034217346919|AVwdJJWc_7pvs4fz2sLy|\n",
      "|AVwcnnZvkufWRAb5xMaa|0.9358024577042894|AVwdJJWc_7pvs4fz2sLy|\n",
      "|AVwcuaVJkufWRAb5yWBw|0.9349795646172534|AVwdJJWc_7pvs4fz2sLy|\n",
      "|AVweLNkgIN2L1WUf2pN7|0.9318836215070248|AVwdJJWc_7pvs4fz2sLy|\n",
      "|AVwdptatkufWRAb57_Vx| 0.930537758864147|AVwdJJWc_7pvs4fz2sLy|\n",
      "|AVwdpk-ckufWRAb579_P|0.9297381210391983|AVwdJJWc_7pvs4fz2sLy|\n",
      "|AVwc2_cd_7pvs4fzzttM|0.9294135484237315|AVwdJJWc_7pvs4fz2sLy|\n",
      "|AVwdNApbIN2L1WUftTMk|0.9592643042745791|AVwdJJWc_7pvs4fz2sLy|\n",
      "|AVwcqZ3LIN2L1WUfnf7-|0.9496060584662751|AVwdJJWc_7pvs4fz2sLy|\n",
      "|AVwc2rCTkufWRAb5zt6J|0.9457003503046686|AVwdJJWc_7pvs4fz2sLy|\n",
      "|AWBwmDwiIxWefVJwvAe-| 0.940034217346919|AVwdJJWc_7pvs4fz2sLy|\n",
      "|AVwcnnZvkufWRAb5xMaa|0.9358024577042894|AVwdJJWc_7pvs4fz2sLy|\n",
      "|AVwcuaVJkufWRAb5yWBw|0.9349795646172534|AVwdJJWc_7pvs4fz2sLy|\n",
      "|AVweLNkgIN2L1WUf2pN7|0.9318836215070248|AVwdJJWc_7pvs4fz2sLy|\n",
      "|AVwdptatkufWRAb57_Vx| 0.930537758864147|AVwdJJWc_7pvs4fz2sLy|\n",
      "|AVwdpk-ckufWRAb579_P|0.9297381210391983|AVwdJJWc_7pvs4fz2sLy|\n",
      "|AVwc2_cd_7pvs4fzzttM|0.9294135484237315|AVwdJJWc_7pvs4fz2sLy|\n",
      "+--------------------+------------------+--------------------+\n",
      "\n",
      "+--------------------+------------------+\n",
      "|hotel_id            |score             |\n",
      "+--------------------+------------------+\n",
      "|AVwdNApbIN2L1WUftTMk|0.9592643042745791|\n",
      "|AVwdNApbIN2L1WUftTMk|0.9592643042745791|\n",
      "|AVwcqZ3LIN2L1WUfnf7-|0.9496060584662751|\n",
      "|AVwcqZ3LIN2L1WUfnf7-|0.9496060584662751|\n",
      "|AVwc2rCTkufWRAb5zt6J|0.9457003503046686|\n",
      "|AVwc2rCTkufWRAb5zt6J|0.9457003503046686|\n",
      "|AWBwmDwiIxWefVJwvAe-|0.940034217346919 |\n",
      "|AWBwmDwiIxWefVJwvAe-|0.940034217346919 |\n",
      "|AVwcnnZvkufWRAb5xMaa|0.9358024577042894|\n",
      "|AVwcnnZvkufWRAb5xMaa|0.9358024577042894|\n",
      "+--------------------+------------------+\n",
      "\n",
      "Hotels recommended to user based on his previously reviewd Hotels:\n",
      "               hotel_id     score  ...   latitude   longitude\n",
      "0  AVwc2rCTkufWRAb5zt6J  0.945700  ...  40.579353  -122.35721\n",
      "1  AVwc2rCTkufWRAb5zt6J  0.945700  ...  40.579353  -122.35721\n",
      "2  AWBwmDwiIxWefVJwvAe-  0.940034  ...   36.84389   -76.18672\n",
      "3  AWBwmDwiIxWefVJwvAe-  0.940034  ...   36.84389   -76.18672\n",
      "4  AVwdNApbIN2L1WUftTMk  0.959264  ...   43.02974   -91.13097\n",
      "5  AVwdNApbIN2L1WUftTMk  0.959264  ...   43.02974   -91.13097\n",
      "6  AVwcqZ3LIN2L1WUfnf7-  0.949606  ...    43.8715    -91.2134\n",
      "7  AVwcqZ3LIN2L1WUfnf7-  0.949606  ...    43.8715    -91.2134\n",
      "8  AVwcnnZvkufWRAb5xMaa  0.935802  ...   40.42074   -104.7723\n",
      "9  AVwcnnZvkufWRAb5xMaa  0.935802  ...   40.42074   -104.7723\n",
      "\n",
      "[10 rows x 7 columns]"
     ]
    }
   ],
   "source": [
    "# recommend top 10 hotels to a user id\n",
    "u_id = 'Amy B'\n",
    "\n",
    "content_recom_df = getContentRecoms(u_id)\n",
    "\n",
    "print(\"Hotels recommended to user based on his previously reviewd Hotels:\")\n",
    "content_recom_df.toPandas()"
   ]
  },
  {
   "cell_type": "code",
   "execution_count": 42,
   "metadata": {},
   "outputs": [
    {
     "data": {
      "application/vnd.jupyter.widget-view+json": {
       "model_id": "cfbf188a64004669b707c0504c81709c",
       "version_major": 2,
       "version_minor": 0
      },
      "text/plain": [
       "VBox()"
      ]
     },
     "metadata": {},
     "output_type": "display_data"
    },
    {
     "data": {
      "application/vnd.jupyter.widget-view+json": {
       "model_id": "",
       "version_major": 2,
       "version_minor": 0
      },
      "text/plain": [
       "FloatProgress(value=0.0, bar_style='info', description='Progress:', layout=Layout(height='25px', width='50%'),…"
      ]
     },
     "metadata": {},
     "output_type": "display_data"
    }
   ],
   "source": [
    "#showInMap(content_recom_df)"
   ]
  },
  {
   "cell_type": "code",
   "execution_count": 43,
   "metadata": {},
   "outputs": [
    {
     "data": {
      "application/vnd.jupyter.widget-view+json": {
       "model_id": "283c64a082e74364baaf74058dc8ddf5",
       "version_major": 2,
       "version_minor": 0
      },
      "text/plain": [
       "VBox()"
      ]
     },
     "metadata": {},
     "output_type": "display_data"
    },
    {
     "data": {
      "application/vnd.jupyter.widget-view+json": {
       "model_id": "",
       "version_major": 2,
       "version_minor": 0
      },
      "text/plain": [
       "FloatProgress(value=0.0, bar_style='info', description='Progress:', layout=Layout(height='25px', width='50%'),…"
      ]
     },
     "metadata": {},
     "output_type": "display_data"
    }
   ],
   "source": [
    "# function to give hotels based on key words\n",
    "\n",
    "def getKeyWordsRecoms(key_words, sim_bus_limit):\n",
    "    \n",
    "    print('\\nHotels similar to key words: \"' + key_words + '\"')\n",
    "    \n",
    "    input_words_df = sc.parallelize([(0, key_words)]).toDF(['hotel_id', 'text'])\n",
    "    \n",
    "    # transform the the key words to vectors\n",
    "    input_words_df = pipeline_mdl.transform(input_words_df)\n",
    "    \n",
    "    # choose word2vec vectors\n",
    "    input_key_words_vec = input_words_df.select('word_vec').collect()[0][0]\n",
    "    \n",
    "    # get similarity\n",
    "    sim_bus_byword_rdd = sc.parallelize((i[0], float(CosineSim(input_key_words_vec, i[1]))) for i in all_hotel_vecs)\n",
    "\n",
    "    sim_bus_byword_df = spark.createDataFrame(sim_bus_byword_rdd) \\\n",
    "         .withColumnRenamed('_1', 'hotel_id') \\\n",
    "         .withColumnRenamed('_2', 'score') \\\n",
    "         .orderBy(\"score\", ascending = False)\n",
    "    \n",
    "    # return top 10 similar businesses\n",
    "    a = sim_bus_byword_df.limit(sim_bus_limit)\n",
    "    return getHotelsDetails(a)"
   ]
  },
  {
   "cell_type": "code",
   "execution_count": 44,
   "metadata": {},
   "outputs": [
    {
     "data": {
      "application/vnd.jupyter.widget-view+json": {
       "model_id": "b54f7f8256cb4486ba14362104340009",
       "version_major": 2,
       "version_minor": 0
      },
      "text/plain": [
       "VBox()"
      ]
     },
     "metadata": {},
     "output_type": "display_data"
    },
    {
     "data": {
      "application/vnd.jupyter.widget-view+json": {
       "model_id": "",
       "version_major": 2,
       "version_minor": 0
      },
      "text/plain": [
       "FloatProgress(value=0.0, bar_style='info', description='Progress:', layout=Layout(height='25px', width='50%'),…"
      ]
     },
     "metadata": {},
     "output_type": "display_data"
    },
    {
     "name": "stdout",
     "output_type": "stream",
     "text": [
      "\n",
      "Hotels similar to key words: \"chicken cheese burger\"\n",
      "+--------------------+------------------+\n",
      "|hotel_id            |score             |\n",
      "+--------------------+------------------+\n",
      "|AWUPNmq6IxWefVJw3c71|0.8089787396859862|\n",
      "|AVwdFDxLkufWRAb52Fqm|0.803772232753839 |\n",
      "|AVwdTtLzByjofQCxnu8i|0.7879191958354709|\n",
      "|AVwdVlVNIN2L1WUfuv2g|0.7757985606725335|\n",
      "|AVwdxVLG_7pvs4fz9Hv-|0.745863421976598 |\n",
      "|AVwd8LKkByjofQCxt2bv|0.7409385811311437|\n",
      "|AVwdbAUYIN2L1WUfvpoH|0.7347754796352892|\n",
      "|AVwdJKj3_7pvs4fz2sZ1|0.7322308202568479|\n",
      "|AVwd18R9IN2L1WUfztHv|0.725049400560385 |\n",
      "|AVwdKzRHkufWRAb53ATl|0.712237253751208 |\n",
      "+--------------------+------------------+\n",
      "\n",
      "               hotel_id     score  ...    latitude    longitude\n",
      "0  AVwdKzRHkufWRAb53ATl  0.712237  ...     45.7504   -108.55175\n",
      "1  AVwdxVLG_7pvs4fz9Hv-  0.745863  ...   39.883358  -105.072334\n",
      "2  AVwd8LKkByjofQCxt2bv  0.740939  ...    38.88519    -94.79277\n",
      "3  AVwdTtLzByjofQCxnu8i  0.787919  ...   41.334415    -81.36336\n",
      "4  AVwd18R9IN2L1WUfztHv  0.725049  ...   43.927223   -69.253334\n",
      "5  AVwdbAUYIN2L1WUfvpoH  0.734775  ...    31.78694   -106.41275\n",
      "6  AWUPNmq6IxWefVJw3c71  0.808979  ...  41.8917552    -87.63284\n",
      "7  AVwdJKj3_7pvs4fz2sZ1  0.732231  ...    40.12212    -75.28333\n",
      "8  AVwdFDxLkufWRAb52Fqm  0.803772  ...    35.06903    -91.90785\n",
      "9  AVwdVlVNIN2L1WUfuv2g  0.775799  ...   21.908293   -159.47493\n",
      "\n",
      "[10 rows x 7 columns]"
     ]
    }
   ],
   "source": [
    "key_words = 'chicken cheese burger'\n",
    "\n",
    "keywords_recom_df = getKeyWordsRecoms(key_words, 10)\n",
    "keywords_recom_df.toPandas()"
   ]
  },
  {
   "cell_type": "code",
   "execution_count": null,
   "metadata": {},
   "outputs": [],
   "source": []
  }
 ],
 "metadata": {
  "kernelspec": {
   "display_name": "Python 3",
   "language": "python",
   "name": "python3"
  },
  "language_info": {
   "codemirror_mode": {
    "name": "ipython",
    "version": 3
   },
   "file_extension": ".py",
   "mimetype": "text/x-python",
   "name": "python",
   "nbconvert_exporter": "python",
   "pygments_lexer": "ipython3",
   "version": "3.6.5"
  }
 },
 "nbformat": 4,
 "nbformat_minor": 4
}
